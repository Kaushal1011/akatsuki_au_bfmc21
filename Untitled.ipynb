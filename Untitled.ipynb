{
 "cells": [
  {
   "cell_type": "code",
   "execution_count": 2,
   "id": "9fc16bf8-b57a-4c55-8428-351763e6acac",
   "metadata": {},
   "outputs": [
    {
     "name": "stdout",
     "output_type": "stream",
     "text": [
      "1\n",
      "2\n",
      "3\n"
     ]
    }
   ],
   "source": [
    "a=[None,None,None,1,2,3]\n",
    "\n",
    "for i in a:\n",
    "    if i:\n",
    "        print(i)"
   ]
  },
  {
   "cell_type": "code",
   "execution_count": 4,
   "id": "b63a06fd-1871-4321-9fe4-63b14719c232",
   "metadata": {},
   "outputs": [],
   "source": [
    "class A:\n",
    "    pass\n",
    "a,b,c=A(),A(),A()"
   ]
  },
  {
   "cell_type": "code",
   "execution_count": 5,
   "id": "7cb60c99-5c5f-47e7-a4c6-0e2697811fbb",
   "metadata": {},
   "outputs": [],
   "source": [
    "obj=[a,b,c]"
   ]
  },
  {
   "cell_type": "code",
   "execution_count": 6,
   "id": "5bd02a53-ad3f-4c5e-9547-b639d3c4478c",
   "metadata": {},
   "outputs": [
    {
     "data": {
      "text/plain": [
       "[<__main__.A at 0x7f1924208bb0>,\n",
       " <__main__.A at 0x7f1924208b20>,\n",
       " <__main__.A at 0x7f1924208550>]"
      ]
     },
     "execution_count": 6,
     "metadata": {},
     "output_type": "execute_result"
    }
   ],
   "source": [
    "obj"
   ]
  },
  {
   "cell_type": "code",
   "execution_count": 7,
   "id": "05192655-55e7-4247-8362-d085e32fbfbe",
   "metadata": {},
   "outputs": [],
   "source": [
    "obj[1]=None"
   ]
  },
  {
   "cell_type": "code",
   "execution_count": 8,
   "id": "63fdf80f-7fb5-4509-b12a-02d10d5b499d",
   "metadata": {},
   "outputs": [
    {
     "data": {
      "text/plain": [
       "[<__main__.A at 0x7f1924208bb0>, None, <__main__.A at 0x7f1924208550>]"
      ]
     },
     "execution_count": 8,
     "metadata": {},
     "output_type": "execute_result"
    }
   ],
   "source": [
    "obj"
   ]
  },
  {
   "cell_type": "code",
   "execution_count": 9,
   "id": "11880651-974d-4874-8d23-3c4a2aa23f6a",
   "metadata": {},
   "outputs": [
    {
     "data": {
      "text/plain": [
       "<__main__.A at 0x7f1924208b20>"
      ]
     },
     "execution_count": 9,
     "metadata": {},
     "output_type": "execute_result"
    }
   ],
   "source": [
    "b"
   ]
  },
  {
   "cell_type": "code",
   "execution_count": 17,
   "id": "239ea188-85de-499c-8ae1-13b2cf0c9623",
   "metadata": {},
   "outputs": [],
   "source": [
    "def b(**kwargs):\n",
    "    print(kwargs[\"coord_list\"])\n",
    "def a(**kwargs):\n",
    "    b(**kwargs)"
   ]
  },
  {
   "cell_type": "code",
   "execution_count": 18,
   "id": "c3782e5d-9d0f-4ca8-ab1e-c66211793bae",
   "metadata": {},
   "outputs": [
    {
     "name": "stdout",
     "output_type": "stream",
     "text": [
      "1\n"
     ]
    }
   ],
   "source": [
    "a(coord_list=1)"
   ]
  },
  {
   "cell_type": "code",
   "execution_count": null,
   "id": "c4916445-b2fc-4edd-86b3-f26189e8b37d",
   "metadata": {},
   "outputs": [],
   "source": []
  }
 ],
 "metadata": {
  "kernelspec": {
   "display_name": "Python 3 (ipykernel)",
   "language": "python",
   "name": "python3"
  },
  "language_info": {
   "codemirror_mode": {
    "name": "ipython",
    "version": 3
   },
   "file_extension": ".py",
   "mimetype": "text/x-python",
   "name": "python",
   "nbconvert_exporter": "python",
   "pygments_lexer": "ipython3",
   "version": "3.9.5"
  }
 },
 "nbformat": 4,
 "nbformat_minor": 5
}
