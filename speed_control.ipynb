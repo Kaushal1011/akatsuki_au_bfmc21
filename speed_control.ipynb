{
  "cells": [
    {
      "cell_type": "code",
      "execution_count": 46,
      "metadata": {
        "id": "IXsIn3fNJRBp"
      },
      "outputs": [],
      "source": [
        "import math\n",
        "import time\n",
        "from typing import *\n",
        "import matplotlib.pyplot as plt\n",
        "def speed_control(heading_angle:float, yaw:float, orientation:float, rps:float, x:float, y:float) -> Tuple[float, float, float, float, float, float, float, float, float, float]:\n",
        "  \"\"\"\n",
        "\n",
        "  Args: \n",
        "    Heading Angle in degrees, \n",
        "    Yaw (Angular Velocity in rad/s), \n",
        "    Theta (Orientation w.r.t X-Y Plane) in degrees, \n",
        "    Rotations Per Second to calculate current velocity\n",
        "    (X,Y) current X and Y co-ordinates of the Car\n",
        "\n",
        "  Returns: \n",
        "    Safe Velocity w.r.t Heading Angle to to prevent Slipping and Toppling in m/s and km/h\n",
        "    Beta which is the slipping angle w.r.t Centre of Mass and ICR on the Rear Axle in Degrees\n",
        "    Instantaneous Radius of Curvature or Turning Radius of the car given input Heading Angle\n",
        "    x_dot is the velocity in X-direction of the Original Frame of Reference\n",
        "    y_dot is the velocity in Y-direction of the Original Frame of Reference\n",
        "    Theta is the orientation similar to the input Theta but calculated on the inputs of RPS and Heading Angle and feeding back to the function again\n",
        "    Yaw is the angular velocity of the vehicle derived using Slipping and Heading Angle\n",
        "    (X,Y) current X and Y co-ordinates of the Car\n",
        "\n",
        "  Notes:\n",
        "    Co-Efficient of Friction mu = 0.6\n",
        "    Accn due to gravity is 9.8 m/s2\n",
        "    Theta and Yaw obtained are again given as a feedback to calculate X_Dot, Y_Dot, Theta\n",
        "    Currently Theta is calculated using incremental method by adding the product of Yaw and Execution time of the Function\n",
        "\n",
        "  \"\"\"\n",
        "  mu = 0.6\n",
        "  g = 9.8\n",
        "  start_time = time.time()\n",
        "  vel = math.pi*2*rps*0.031\n",
        "  heading_angle = -heading_angle*math.pi/180\n",
        "  if (heading_angle != 0):\n",
        "    R = math.sqrt(0.19**2 + 0.1825**2/(math.tan(heading_angle)**2))\n",
        "    v = math.sqrt(mu*R*g)\n",
        "  else:\n",
        "    v = 8\n",
        "    R = 0\n",
        "  orientation = orientation*math.pi/180\n",
        "  beta = math.atan(math.tan(heading_angle)/2)\n",
        "  yaw = vel*math.tan(heading_angle)*math.cos(beta)    \n",
        "  x_dot = vel*math.cos(beta+orientation)\n",
        "  y_dot = vel*math.sin(beta+orientation)\n",
        "  beta = beta*180/math.pi\n",
        "  v_kmph = 3.6*v\n",
        "  exec_time = time.time() - start_time \n",
        "  orientation = orientation + yaw*exec_time\n",
        "  orientation = orientation*180/math.pi\n",
        "  x = x + x_dot*exec_time\n",
        "  y = y + y_dot*exec_time\n",
        "  return v, vel, beta, R, x_dot, y_dot, orientation, yaw, x, y\n"
      ]
    },
    {
      "cell_type": "code",
      "execution_count": 47,
      "metadata": {
        "colab": {
          "base_uri": "https://localhost:8080/"
        },
        "id": "uV7CIYJjJRBs",
        "outputId": "1498a3e6-244b-40d3-8596-bf79f9e9f9d5"
      },
      "outputs": [
        {
          "output_type": "execute_result",
          "data": {
            "text/plain": [
              "(3.5094677096366658,\n",
              " 0.09738937226128358,\n",
              " -2.5047687215366006,\n",
              " 2.0946196607112966,\n",
              " 0.004256162731299838,\n",
              " 0.09729632525564141,\n",
              " 89.99998941837563,\n",
              " -0.008512325462599675,\n",
              " 9.234209264475949e-08,\n",
              " 2.110949897352068e-06)"
            ]
          },
          "metadata": {},
          "execution_count": 47
        }
      ],
      "source": [
        "speed_control(5, 0, 90, 0.5, 0, 0)"
      ]
    },
    {
      "cell_type": "code",
      "execution_count": 65,
      "metadata": {
        "id": "7sfaV3uTJRBt",
        "colab": {
          "base_uri": "https://localhost:8080/",
          "height": 317
        },
        "outputId": "9d5f27a7-7133-46a7-d447-c5bd8e1e9810"
      },
      "outputs": [
        {
          "output_type": "stream",
          "name": "stdout",
          "text": [
            "-114.1380244522197\n",
            "-1.710602179795483\n",
            "9.738937226128359\n"
          ]
        },
        {
          "output_type": "display_data",
          "data": {
            "image/png": "[encoded data removed]",
            "text/plain": [
              "<Figure size 432x288 with 1 Axes>"
            ]
          },
          "metadata": {
            "needs_background": "light"
          }
        }
      ],
      "source": [
        "start_time = time.time()\n",
        "seconds = 2\n",
        "phi = 10\n",
        "yaw = 0\n",
        "orientation = 0\n",
        "rps = 50\n",
        "x = 0\n",
        "y = 0\n",
        "x_list = []\n",
        "y_list = []\n",
        "while True:\n",
        "    current_time = time.time()\n",
        "    elapsed_time = current_time - start_time\n",
        "    v, vel, beta, R, x_dot, y_dot, orientation, yaw, x, y = speed_control(phi, yaw, orientation, rps, x, y)\n",
        "    x_list.append(x)\n",
        "    y_list.append(y)\n",
        "    if elapsed_time > seconds:\n",
        "        break\n",
        "\n",
        "plt.plot(x_list,y_list)\n",
        "print(orientation)\n",
        "print(yaw)\n",
        "print(math.pi*2*rps*0.031)\n"
      ]
    },
    {
      "cell_type": "code",
      "source": [
        ""
      ],
      "metadata": {
        "id": "0_pVwegreN8g"
      },
      "execution_count": null,
      "outputs": []
    }
  ],
  "metadata": {
    "kernelspec": {
      "display_name": "Python 3",
      "language": "python",
      "name": "python3"
    },
    "language_info": {
      "codemirror_mode": {
        "name": "ipython",
        "version": 3
      },
      "file_extension": ".py",
      "mimetype": "text/x-python",
      "name": "python",
      "nbconvert_exporter": "python",
      "pygments_lexer": "ipython3",
      "version": "3.7.6"
    },
    "colab": {
      "name": "speed_control.ipynb",
      "provenance": [],
      "collapsed_sections": []
    }
  },
  "nbformat": 4,
  "nbformat_minor": 0
}