{
  "nbformat": 4,
  "nbformat_minor": 0,
  "metadata": {
    "colab": {
      "name": "Forward_kinematics.ipynb",
      "provenance": [],
      "collapsed_sections": []
    },
    "kernelspec": {
      "name": "python3",
      "display_name": "Python 3"
    },
    "language_info": {
      "name": "python"
    }
  },
  "cells": [
    {
      "cell_type": "code",
      "execution_count": null,
      "metadata": {
        "id": "lfdYk9drtMY5"
      },
      "outputs": [],
      "source": [
        "import math\n",
        "import time\n",
        "import random\n",
        "from typing import *\n",
        "from statistics import mean\n",
        "import matplotlib.pyplot as plt\n",
        "\n",
        "def plant_model(steering_angle:float, yaw:float, rps:float, x:float, y:float, L=0.365) -> Tuple[float, float, float, float, float]:\n",
        "  \"\"\"\n",
        "\n",
        "  Args: \n",
        "    Steering Angle in degrees, \n",
        "    Theta (yaw w.r.t X-Y Plane) in degrees, \n",
        "    Rotations Per Second to calculate current velocity\n",
        "    (X,Y) current X and Y co-ordinates of the Car\n",
        "\n",
        "  Returns: \n",
        "    Velocity of the car\n",
        "    Theta is the yaw similar to the input Theta but calculated on the inputs of RPS and Heading Angle and feeding back to the function again\n",
        "    Omega is the angular velocity of the vehicle derived using Slipping and Heading Angle\n",
        "    (X,Y) current X and Y co-ordinates of the Car\n",
        "    dt is the time taken for function to execute\n",
        "\n",
        "  Notes:\n",
        "    Theta and Omega obtained are again given as a feedback to calculate X_Dot, Y_Dot, Theta\n",
        "    Currently Theta is calculated using incremental method by adding the product of Omega and Execution time of the Function\n",
        "\n",
        "  \"\"\"\n",
        "  start_time = time.time()\n",
        "  if steering_angle>25:\n",
        "    steering_angle=25\n",
        "  elif steering_angle<-25:\n",
        "    steering_angle=-25\n",
        "  if rps>25:\n",
        "    rps=25\n",
        "  elif rps<-10:\n",
        "    rps=-10\n",
        "  vel = math.pi*2*rps*0.031\n",
        "  steering_angle = -steering_angle*math.pi/180\n",
        "  yaw = yaw*math.pi/180\n",
        "  Omega = vel*math.tan(steering_angle)/L    \n",
        "  x_dot = vel*math.cos(yaw)\n",
        "  y_dot = vel*math.sin(yaw)\n",
        "  dt = time.time() - start_time\n",
        "  yaw = yaw + Omega*dt\n",
        "  x = x + x_dot*dt\n",
        "  y = y + y_dot*dt\n",
        "  vel = math.sqrt(x_dot**2 + y_dot**2)\n",
        "  yaw = yaw*180/math.pi\n",
        "  yaw -= math.ceil(yaw / 360 - 0.5) * 360\n",
        "  return vel, yaw, x, y, dt"
      ]
    },
    {
      "cell_type": "code",
      "source": [
        "start_time = time.time()\n",
        "seconds = 4\n",
        "phi = 0\n",
        "yaw = 0\n",
        "rps = 20\n",
        "x = 0\n",
        "y = 0\n",
        "x_list = []\n",
        "y_list = []\n",
        "dt_list = []\n",
        "while True:\n",
        "    phi = phi+random.randint(-8,8)\n",
        "    current_time = time.time()\n",
        "    elapsed_time = current_time - start_time\n",
        "    vel, yaw, x, y, dt = plant_model(phi, yaw, rps, x, y)\n",
        "    dt_list.append(dt)\n",
        "    x_list.append(x)\n",
        "    y_list.append(y)\n",
        "    if elapsed_time > seconds:\n",
        "        break\n",
        "\n",
        "plt.plot(x_list,y_list)\n",
        "print(yaw)\n",
        "print(vel)\n",
        "print(mean(dt_list))"
      ],
      "metadata": {
        "colab": {
          "base_uri": "https://localhost:8080/",
          "height": 321
        },
        "id": "jvLGVWA1tNgC",
        "outputId": "c3525adf-150e-4106-bcfd-df552de7c677"
      },
      "execution_count": null,
      "outputs": [
        {
          "output_type": "stream",
          "name": "stdout",
          "text": [
            "-121.93098709773635\n",
            "3.8955748904513436\n",
            "1.290429898199191e-06\n"
          ]
        },
        {
          "output_type": "display_data",
          "data": {
            "image/png": "[encoded data removed]",
            "text/plain": [
              "<Figure size 432x288 with 1 Axes>"
            ]
          },
          "metadata": {
            "needs_background": "light"
          }
        }
      ]
    },
    {
      "cell_type": "code",
      "source": [
        ""
      ],
      "metadata": {
        "id": "xAZ-nDNwtQN0"
      },
      "execution_count": null,
      "outputs": []
    }
  ]
}