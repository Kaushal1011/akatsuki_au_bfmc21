{
 "cells": [
  {
   "cell_type": "code",
   "execution_count": 1,
   "id": "75b900fa-615d-4b14-9a32-47e30bd45be9",
   "metadata": {},
   "outputs": [],
   "source": [
    "import sys\n",
    "# sys.path.append(\"../../PathPlanning/CubicSpline/\")\n",
    "\n",
    "import numpy as np\n",
    "import math\n",
    "import cvxpy\n",
    "import matplotlib.pyplot as plt\n",
    "import cubic_spline_planner\n",
    "import joblib\n"
   ]
  },
  {
   "cell_type": "code",
   "execution_count": 2,
   "id": "ad0ed4f0-6ba0-4154-858d-4144b70979a5",
   "metadata": {},
   "outputs": [],
   "source": [
    "NX = 4  # x = x, y, v, yaw\n",
    "NU = 2  # a = [accel, steer]\n",
    "T = 5  # horizon length\n",
    "\n",
    "# mpc parameters\n",
    "R = np.diag([0.01, 0.01])  # input cost matrix\n",
    "Rd = np.diag([0.01, 1.0])  # input difference cost matrix\n",
    "Q = np.diag([1.0, 1.0, 0.5, 0.5])  # state cost matrix\n",
    "Qf = Q  # state final matrix\n",
    "GOAL_DIS = .15  # goal distance\n",
    "STOP_SPEED = 0.1  # stop speed\n",
    "MAX_TIME = 500.0  # max simulation time\n",
    "\n",
    "# iterative paramter\n",
    "MAX_ITER = 3  # Max iteration\n",
    "DU_TH = 0.1  # iteration finish param\n",
    "\n",
    "TARGET_SPEED = 0.3  # [m/s] target speed\n",
    "N_IND_SEARCH = 10  # Search index number\n",
    "\n",
    "DT = 0.2  # [s] time tick\n",
    "\n",
    "# Vehicle parameters\n",
    "LENGTH = 0.365  # [m]\n",
    "WIDTH = 0.19  # [m]\n",
    "BACKTOWHEEL = 0.1  # [m]\n",
    "WHEEL_LEN = 0.03  # [m]\n",
    "WHEEL_WIDTH = 0.02  # [m]\n",
    "TREAD = 0.07  # [m]\n",
    "WB = 0.26  # [m]\n",
    "\n",
    "MAX_STEER = math.radians(21.0)  # maximum steering angle [rad]\n",
    "MAX_DSTEER = math.radians(30.0)  # maximum steering speed [rad/s]\n",
    "MAX_SPEED = 0.32  # maximum speed [m/s]\n",
    "MIN_SPEED = -0.32  # minimum speed [m/s]\n",
    "MAX_ACCEL = 0.01  # maximum accel [m/ss]"
   ]
  },
  {
   "cell_type": "code",
   "execution_count": 3,
   "id": "80a3def2-c376-4294-8880-b8c32a0e88f5",
   "metadata": {},
   "outputs": [],
   "source": [
    "\n",
    "class State:\n",
    "    \"\"\"\n",
    "    vehicle state class\n",
    "    \"\"\"\n",
    "\n",
    "    def __init__(self, x=0.0, y=0.0, yaw=0.0, v=0.0):\n",
    "        self.x = x\n",
    "        self.y = y\n",
    "        self.yaw = yaw\n",
    "        self.v = v\n",
    "        self.predelta = None\n",
    "\n",
    "\n",
    "def pi_2_pi(angle):\n",
    "    while(angle > math.pi):\n",
    "        angle = angle - 2.0 * math.pi\n",
    "\n",
    "    while(angle < -math.pi):\n",
    "        angle = angle + 2.0 * math.pi\n",
    "\n",
    "    return angle\n"
   ]
  },
  {
   "cell_type": "code",
   "execution_count": 4,
   "id": "e818e65a-2c58-42f7-9c12-89059f06111e",
   "metadata": {},
   "outputs": [],
   "source": [
    "def get_linear_model_matrix(v, phi, delta):\n",
    "\n",
    "    A = np.matrix(np.zeros((NX, NX)))\n",
    "    A[0, 0] = 1.0\n",
    "    A[1, 1] = 1.0\n",
    "    A[2, 2] = 1.0\n",
    "    A[3, 3] = 1.0\n",
    "    A[0, 2] = DT * math.cos(phi)\n",
    "    A[0, 3] = - DT * v * math.sin(phi)\n",
    "    A[1, 2] = DT * math.sin(phi)\n",
    "    A[1, 3] = DT * v * math.cos(phi)\n",
    "    A[3, 2] = DT * math.tan(delta) / WB\n",
    "\n",
    "    B = np.matrix(np.zeros((NX, NU)))\n",
    "    B[2, 0] = DT\n",
    "    B[3, 1] = DT * v / (WB * math.cos(delta) ** 2)\n",
    "\n",
    "    C = np.zeros(NX)\n",
    "    C[0] = DT * v * math.sin(phi) * phi\n",
    "    C[1] = - DT * v * math.cos(phi) * phi\n",
    "    C[3] = v * delta / (WB * math.cos(delta) ** 2)\n",
    "\n",
    "    return A, B, C"
   ]
  },
  {
   "cell_type": "code",
   "execution_count": 5,
   "id": "4128f49e-bd3d-41b5-898a-ba5061614aaf",
   "metadata": {},
   "outputs": [],
   "source": [
    "def plot_car(x, y, yaw, steer=0.0, cabcolor=\"-r\", truckcolor=\"-k\"):\n",
    "\n",
    "    outline = np.matrix([[-BACKTOWHEEL, (LENGTH - BACKTOWHEEL), (LENGTH - BACKTOWHEEL), -BACKTOWHEEL, -BACKTOWHEEL],\n",
    "                         [WIDTH / 2, WIDTH / 2, - WIDTH / 2, -WIDTH / 2, WIDTH / 2]])\n",
    "\n",
    "    fr_wheel = np.matrix([[WHEEL_LEN, -WHEEL_LEN, -WHEEL_LEN, WHEEL_LEN, WHEEL_LEN],\n",
    "                          [-WHEEL_WIDTH - TREAD, -WHEEL_WIDTH - TREAD, WHEEL_WIDTH - TREAD, WHEEL_WIDTH - TREAD, -WHEEL_WIDTH - TREAD]])\n",
    "\n",
    "    rr_wheel = np.copy(fr_wheel)\n",
    "\n",
    "    fl_wheel = np.copy(fr_wheel)\n",
    "    fl_wheel[1, :] *= -1\n",
    "    rl_wheel = np.copy(rr_wheel)\n",
    "    rl_wheel[1, :] *= -1\n",
    "\n",
    "    Rot1 = np.matrix([[math.cos(yaw), math.sin(yaw)],\n",
    "                      [-math.sin(yaw), math.cos(yaw)]])\n",
    "    Rot2 = np.matrix([[math.cos(steer), math.sin(steer)],\n",
    "                      [-math.sin(steer), math.cos(steer)]])\n",
    "\n",
    "    fr_wheel = (fr_wheel.T * Rot2).T\n",
    "    fl_wheel = (fl_wheel.T * Rot2).T\n",
    "    fr_wheel[0, :] += WB\n",
    "    fl_wheel[0, :] += WB\n",
    "\n",
    "    fr_wheel = (fr_wheel.T * Rot1).T\n",
    "    fl_wheel = (fl_wheel.T * Rot1).T\n",
    "\n",
    "    outline = (outline.T * Rot1).T\n",
    "    rr_wheel = (rr_wheel.T * Rot1).T\n",
    "    rl_wheel = (rl_wheel.T * Rot1).T\n",
    "\n",
    "    outline[0, :] += x\n",
    "    outline[1, :] += y\n",
    "    fr_wheel[0, :] += x\n",
    "    fr_wheel[1, :] += y\n",
    "    rr_wheel[0, :] += x\n",
    "    rr_wheel[1, :] += y\n",
    "    fl_wheel[0, :] += x\n",
    "    fl_wheel[1, :] += y\n",
    "    rl_wheel[0, :] += x\n",
    "    rl_wheel[1, :] += y\n",
    "\n",
    "    plt.plot(np.array(outline[0, :]).flatten(),\n",
    "             np.array(outline[1, :]).flatten(), truckcolor)\n",
    "    plt.plot(np.array(fr_wheel[0, :]).flatten(),\n",
    "             np.array(fr_wheel[1, :]).flatten(), truckcolor)\n",
    "    plt.plot(np.array(rr_wheel[0, :]).flatten(),\n",
    "             np.array(rr_wheel[1, :]).flatten(), truckcolor)\n",
    "    plt.plot(np.array(fl_wheel[0, :]).flatten(),\n",
    "             np.array(fl_wheel[1, :]).flatten(), truckcolor)\n",
    "    plt.plot(np.array(rl_wheel[0, :]).flatten(),\n",
    "             np.array(rl_wheel[1, :]).flatten(), truckcolor)\n",
    "    plt.plot(x, y, \"*\")\n",
    "\n",
    "\n",
    "def update_state(state, a, delta):\n",
    "\n",
    "    # input check\n",
    "    if delta >= MAX_STEER:\n",
    "        delta = MAX_STEER\n",
    "    elif delta <= -MAX_STEER:\n",
    "        delta = -MAX_STEER\n",
    "\n",
    "    state.x = state.x + state.v * math.cos(state.yaw) * DT\n",
    "    state.y = state.y + state.v * math.sin(state.yaw) * DT\n",
    "    state.yaw = state.yaw + state.v / WB * math.tan(delta) * DT\n",
    "    state.v = state.v + a * DT\n",
    "\n",
    "    if state. v > MAX_SPEED:\n",
    "        state.v = MAX_SPEED\n",
    "    elif state. v < MIN_SPEED:\n",
    "        state.v = MIN_SPEED\n",
    "\n",
    "    return state\n",
    "\n",
    "\n",
    "def get_nparray_from_matrix(x):\n",
    "    return np.array(x).flatten()\n",
    "\n",
    "\n",
    "def calc_nearest_index(state, cx, cy, cyaw, pind):\n",
    "\n",
    "    dx = [state.x - icx for icx in cx[pind:(pind + N_IND_SEARCH)]]\n",
    "    dy = [state.y - icy for icy in cy[pind:(pind + N_IND_SEARCH)]]\n",
    "\n",
    "    d = [idx ** 2 + idy ** 2 for (idx, idy) in zip(dx, dy)]\n",
    "\n",
    "    mind = min(d)\n",
    "\n",
    "    ind = d.index(mind) + pind\n",
    "\n",
    "    mind = math.sqrt(mind)\n",
    "\n",
    "    dxl = cx[ind] - state.x\n",
    "    dyl = cy[ind] - state.y\n",
    "\n",
    "    angle = pi_2_pi(cyaw[ind] - math.atan2(dyl, dxl))\n",
    "    if angle < 0:\n",
    "        mind *= -1\n",
    "\n",
    "    return ind, mind\n"
   ]
  },
  {
   "cell_type": "code",
   "execution_count": 6,
   "id": "92e85d14-103a-4e3d-a44c-944e274e9057",
   "metadata": {},
   "outputs": [],
   "source": [
    "\n",
    "def predict_motion(x0, oa, od, xref):\n",
    "    xbar = xref * 0.0\n",
    "    for i in range(len(x0)):\n",
    "        xbar[i, 0] = x0[i]\n",
    "\n",
    "    state = State(x=x0[0], y=x0[1], yaw=x0[3], v=x0[2])\n",
    "    for (ai, di, i) in zip(oa, od, range(1, T + 1)):\n",
    "        state = update_state(state, ai, di)\n",
    "        xbar[0, i] = state.x\n",
    "        xbar[1, i] = state.y\n",
    "        xbar[2, i] = state.v\n",
    "        xbar[3, i] = state.yaw\n",
    "\n",
    "    return xbar\n",
    "\n",
    "\n",
    "def iterative_linear_mpc_control(xref, x0, dref, oa, od):\n",
    "    \"\"\"\n",
    "    MPC contorl with updating operational point iteraitvely\n",
    "    \"\"\"\n",
    "\n",
    "    if oa is None or od is None:\n",
    "        oa = [0.0] * T\n",
    "        od = [0.0] * T\n",
    "\n",
    "    for i in range(MAX_ITER):\n",
    "        xbar = predict_motion(x0, oa, od, xref)\n",
    "        poa, pod = oa[:], od[:]\n",
    "        oa, od, ox, oy, oyaw, ov = linear_mpc_control(xref, xbar, x0, dref)\n",
    "        du = sum(abs(oa - poa)) + sum(abs(od - pod))  # calc u change value\n",
    "        if du <= DU_TH:\n",
    "            break\n",
    "    else:\n",
    "        print(\"Iterative is max iter\")\n",
    "\n",
    "    return oa, od, ox, oy, oyaw, ov\n",
    "\n",
    "\n",
    "def linear_mpc_control(xref, xbar, x0, dref):\n",
    "    \"\"\"\n",
    "    linear mpc control\n",
    "\n",
    "    xref: reference point\n",
    "    xbar: operational point\n",
    "    x0: initial state\n",
    "    dref: reference steer angle\n",
    "    \"\"\"\n",
    "\n",
    "    x = cvxpy.Variable((NX, T + 1))\n",
    "    u = cvxpy.Variable((NU, T))\n",
    "\n",
    "    cost = 0.0\n",
    "    constraints = []\n",
    "\n",
    "    for t in range(T):\n",
    "        cost += cvxpy.quad_form(u[:, t], R)\n",
    "\n",
    "        if t != 0:\n",
    "            cost += cvxpy.quad_form(xref[:, t] - x[:, t], Q)\n",
    "\n",
    "        A, B, C = get_linear_model_matrix(\n",
    "            xbar[2, t], xbar[3, t], dref[0, t])\n",
    "        constraints += [x[:, t + 1] == A @ x[:, t] + B @ u[:, t] + C]\n",
    "\n",
    "        if t < (T - 1):\n",
    "            cost += cvxpy.quad_form(u[:, t + 1] - u[:, t], Rd)\n",
    "            constraints += [cvxpy.abs(u[1, t + 1] - u[1, t])\n",
    "                            <= MAX_DSTEER * DT]\n",
    "\n",
    "    cost += cvxpy.quad_form(xref[:, T] - x[:, T], Qf)\n",
    "\n",
    "    constraints += [x[:, 0] == x0]\n",
    "    constraints += [x[2, :] <= MAX_SPEED]\n",
    "    constraints += [x[2, :] >= MIN_SPEED]\n",
    "    constraints += [cvxpy.abs(u[0, :]) <= MAX_ACCEL]\n",
    "    constraints += [cvxpy.abs(u[1, :]) <= MAX_STEER]\n",
    "\n",
    "    prob = cvxpy.Problem(cvxpy.Minimize(cost), constraints)\n",
    "    prob.solve(solver=cvxpy.ECOS, verbose=False)\n",
    "\n",
    "    if prob.status == cvxpy.OPTIMAL or prob.status == cvxpy.OPTIMAL_INACCURATE:\n",
    "        ox = get_nparray_from_matrix(x.value[0, :])\n",
    "        oy = get_nparray_from_matrix(x.value[1, :])\n",
    "        ov = get_nparray_from_matrix(x.value[2, :])\n",
    "        oyaw = get_nparray_from_matrix(x.value[3, :])\n",
    "        oa = get_nparray_from_matrix(u.value[0, :])\n",
    "        odelta = get_nparray_from_matrix(u.value[1, :])\n",
    "\n",
    "    else:\n",
    "        print(\"Error: Cannot solve mpc..\")\n",
    "        oa, odelta, ox, oy, oyaw, ov = None, None, None, None, None, None\n",
    "\n",
    "    return oa, odelta, ox, oy, oyaw, ov\n",
    "\n",
    "\n",
    "def calc_ref_trajectory(state, cx, cy, cyaw, ck, sp, dl, pind):\n",
    "    xref = np.zeros((NX, T + 1))\n",
    "    dref = np.zeros((1, T + 1))\n",
    "    ncourse = len(cx)\n",
    "\n",
    "    ind, _ = calc_nearest_index(state, cx, cy, cyaw, pind)\n",
    "\n",
    "    if pind >= ind:\n",
    "        ind = pind\n",
    "\n",
    "    xref[0, 0] = cx[ind]\n",
    "    xref[1, 0] = cy[ind]\n",
    "    xref[2, 0] = sp[ind]\n",
    "    xref[3, 0] = cyaw[ind]\n",
    "    dref[0, 0] = 0.0  # steer operational point should be 0\n",
    "\n",
    "    travel = 0.0\n",
    "\n",
    "    for i in range(T + 1):\n",
    "        travel += abs(state.v) * DT\n",
    "        dind = int(round(travel / dl))\n",
    "\n",
    "        if (ind + dind) < ncourse:\n",
    "            xref[0, i] = cx[ind + dind]\n",
    "            xref[1, i] = cy[ind + dind]\n",
    "            xref[2, i] = sp[ind + dind]\n",
    "            xref[3, i] = cyaw[ind + dind]\n",
    "            dref[0, i] = 0.0\n",
    "        else:\n",
    "            xref[0, i] = cx[ncourse - 1]\n",
    "            xref[1, i] = cy[ncourse - 1]\n",
    "            xref[2, i] = sp[ncourse - 1]\n",
    "            xref[3, i] = cyaw[ncourse - 1]\n",
    "            dref[0, i] = 0.0\n",
    "\n",
    "    return xref, ind, dref\n",
    "\n",
    "\n",
    "def check_goal(state, goal, tind, nind):\n",
    "\n",
    "    # check goal\n",
    "    dx = state.x - goal[0]\n",
    "    dy = state.y - goal[1]\n",
    "    d = math.sqrt(dx ** 2 + dy ** 2)\n",
    "\n",
    "    if (d <= GOAL_DIS):\n",
    "        isgoal = True\n",
    "    else:\n",
    "        isgoal = False\n",
    "\n",
    "    if abs(tind - nind) >= 5:\n",
    "        isgoal = False\n",
    "\n",
    "    if (abs(state.v) <= STOP_SPEED):\n",
    "        isstop = True\n",
    "    else:\n",
    "        isstop = False\n",
    "\n",
    "    if isgoal and isstop:\n",
    "        return True\n",
    "\n",
    "    return False\n",
    "\n"
   ]
  },
  {
   "cell_type": "code",
   "execution_count": 7,
   "id": "5f04db2c-5c72-4032-8a34-bb6340d27b57",
   "metadata": {},
   "outputs": [],
   "source": [
    "preplan=joblib.load(\"preplan.z\")"
   ]
  },
  {
   "cell_type": "code",
   "execution_count": 8,
   "id": "c805d10c-600b-4281-b3e8-bdd71cf2ab68",
   "metadata": {},
   "outputs": [
    {
     "data": {
      "text/plain": [
       "<matplotlib.collections.PathCollection at 0x7f169ef2bdf0>"
      ]
     },
     "execution_count": 8,
     "metadata": {},
     "output_type": "execute_result"
    },
    {
     "data": {
      "image/png": "[encoded data removed]",
      "text/plain": [
       "<Figure size 432x288 with 1 Axes>"
      ]
     },
     "metadata": {
      "needs_background": "light"
     },
     "output_type": "display_data"
    }
   ],
   "source": [
    "ax=preplan[\"x\"][::10]\n",
    "ay=preplan[\"y\"][::10]\n",
    "\n",
    "plt.scatter(ax,ay)"
   ]
  },
  {
   "cell_type": "code",
   "execution_count": 15,
   "id": "0c527296-c522-45ff-a583-bd505480fdd3",
   "metadata": {},
   "outputs": [],
   "source": [
    "dl=0.02\n",
    "cx, cy, cyaw, ck, s = cubic_spline_planner.calc_spline_course(\n",
    "        ax, ay, ds=0.1)"
   ]
  },
  {
   "cell_type": "code",
   "execution_count": 16,
   "id": "5f92b4a6-fdcb-4568-8ac1-e58a7583a57b",
   "metadata": {},
   "outputs": [
    {
     "data": {
      "text/plain": [
       "<matplotlib.collections.PathCollection at 0x7f169e5b18e0>"
      ]
     },
     "execution_count": 16,
     "metadata": {},
     "output_type": "execute_result"
    },
    {
     "data": {
      "image/png": "[encoded data removed]",
      "text/plain": [
       "<Figure size 432x288 with 1 Axes>"
      ]
     },
     "metadata": {
      "needs_background": "light"
     },
     "output_type": "display_data"
    }
   ],
   "source": [
    "plt.scatter(cx,cy)"
   ]
  },
  {
   "cell_type": "code",
   "execution_count": 17,
   "id": "746182da-98d0-4856-93df-825a94a8080d",
   "metadata": {},
   "outputs": [
    {
     "data": {
      "text/plain": [
       "([0.625,\n",
       "  0.7245505967068373,\n",
       "  0.8504003960604261,\n",
       "  0.961036021911364,\n",
       "  1.0602252207197351,\n",
       "  1.1517357389456233,\n",
       "  1.239335323049113,\n",
       "  1.3267917194902878,\n",
       "  1.417872674729232,\n",
       "  1.5150945540605898,\n",
       "  1.615473635970208,\n",
       "  1.7155485434063176,\n",
       "  1.8152007831473362,\n",
       "  1.914986757545293,\n",
       "  2.0153064427870646,\n",
       "  2.115901777656672,\n",
       "  2.2163416950460415,\n",
       "  2.3161951270678878,\n",
       "  2.4150310058349245,\n",
       "  2.5126846018436786,\n",
       "  2.614576687714282,\n",
       "  2.7255184714359437,\n",
       "  2.842111202873043,\n",
       "  2.9603406973186237,\n",
       "  3.076192770065732,\n",
       "  3.1856532364074104,\n",
       "  3.2847079116367066,\n",
       "  3.369342611046663,\n",
       "  3.4355431499303264,\n",
       "  3.4792953435807403,\n",
       "  3.498009450249475,\n",
       "  3.4977427344291527,\n",
       "  3.487797813992638,\n",
       "  3.4771117552541995,\n",
       "  3.4693305118984457,\n",
       "  3.464158383197212,\n",
       "  3.461205586014156,\n",
       "  3.460082337212934,\n",
       "  3.4603988536572046,\n",
       "  3.4617653522106244,\n",
       "  3.4637988952220917,\n",
       "  3.4662152730121805,\n",
       "  3.4688044275193763,\n",
       "  3.471358104290481,\n",
       "  3.4736680488722977,\n",
       "  3.4755240501996516,\n",
       "  3.4765826168285243,\n",
       "  3.4762839818118687,\n",
       "  3.474054223508298,\n",
       "  3.4697029439155544,\n",
       "  3.4636620929620903,\n",
       "  3.4564205532514776,\n",
       "  3.4484672073872917,\n",
       "  3.440290937973103,\n",
       "  3.4323806276124857,\n",
       "  3.425225158909013,\n",
       "  3.419065431041684,\n",
       "  3.4130433306379975,\n",
       "  3.405996393430215,\n",
       "  3.3967621441919102,\n",
       "  3.384178107696658,\n",
       "  3.3670818087180314,\n",
       "  3.3451221345597313,\n",
       "  3.3214041804768257,\n",
       "  3.29995316031866,\n",
       "  3.284794295904442,\n",
       "  3.279883845146242,\n",
       "  3.2887460776912905,\n",
       "  3.3147383531625745,\n",
       "  3.3612176726963643,\n",
       "  3.430568965661754,\n",
       "  3.51883146070618,\n",
       "  3.6194981164684736,\n",
       "  3.7260550429885533,\n",
       "  3.8320860443261275,\n",
       "  3.9344734456313146,\n",
       "  4.034116091393469,\n",
       "  4.132155867986875,\n",
       "  4.229734661785825,\n",
       "  4.327808691634368,\n",
       "  4.426504701148386,\n",
       "  4.525717885896849,\n",
       "  4.625343431078282,\n",
       "  4.725276521891194,\n",
       "  4.825412343534105,\n",
       "  4.925646081205535,\n",
       "  5.025872920104,\n",
       "  5.125990361549794,\n",
       "  5.225958162459529,\n",
       "  5.325803778147369,\n",
       "  5.425558071007222,\n",
       "  5.52525190343299],\n",
       " [5.0,\n",
       "  4.969736625266735,\n",
       "  4.915659679088257,\n",
       "  4.89290549261241,\n",
       "  4.894457774629036,\n",
       "  4.913300233927974,\n",
       "  4.942416579299064,\n",
       "  4.974790519532149,\n",
       "  5.003405763417071,\n",
       "  5.022749674143657,\n",
       "  5.033918888403448,\n",
       "  5.039925926008003,\n",
       "  5.044108565208512,\n",
       "  5.0498702395682304,\n",
       "  5.059584064961143,\n",
       "  5.071288923434685,\n",
       "  5.081884175199896,\n",
       "  5.088269175335463,\n",
       "  5.08734327892007,\n",
       "  5.076408803055361,\n",
       "  5.061273079738861,\n",
       "  5.049244142566083,\n",
       "  5.0385491222292735,\n",
       "  5.02672779836915,\n",
       "  5.011319950626432,\n",
       "  4.989865358641841,\n",
       "  4.959903802056095,\n",
       "  4.918975060509918,\n",
       "  4.8646189136440245,\n",
       "  4.794375141099138,\n",
       "  4.706770517063489,\n",
       "  4.606323314339637,\n",
       "  4.4998005065797475,\n",
       "  4.393690149143838,\n",
       "  4.290448915076876,\n",
       "  4.189530268646409,\n",
       "  4.090315991246632,\n",
       "  3.9921878642717483,\n",
       "  3.8945276691159587,\n",
       "  3.7967171871734635,\n",
       "  3.698170719623427,\n",
       "  3.5987715793068404,\n",
       "  3.4987553396546227,\n",
       "  3.398366142219969,\n",
       "  3.297848128556076,\n",
       "  3.197443948884253,\n",
       "  3.0972946669684522,\n",
       "  2.9973765011365927,\n",
       "  2.8976503940271736,\n",
       "  2.7980639676068413,\n",
       "  2.698543228244865,\n",
       "  2.599012204905721,\n",
       "  2.4993949265538844,\n",
       "  2.39961542215383,\n",
       "  2.299597720670034,\n",
       "  2.199265851066972,\n",
       "  2.098610029732714,\n",
       "  1.9979138023752598,\n",
       "  1.8975419467513213,\n",
       "  1.797859243542513,\n",
       "  1.6992304734304484,\n",
       "  1.6020204170967411,\n",
       "  1.5062450813979387,\n",
       "  1.4104347811322642,\n",
       "  1.3127243071863444,\n",
       "  1.2112484470208613,\n",
       "  1.1050684042124517,\n",
       "  0.999048430730042,\n",
       "  0.9002949388665433,\n",
       "  0.8159191565914333,\n",
       "  0.7519765393798594,\n",
       "  0.7076304422413573,\n",
       "  0.679278702320435,\n",
       "  0.6633117184606382,\n",
       "  0.6561479487742207,\n",
       "  0.6551532388369378,\n",
       "  0.6588470421490086,\n",
       "  0.665818617686677,\n",
       "  0.674657224426187,\n",
       "  0.6841409678257913,\n",
       "  0.6938916306337665,\n",
       "  0.7037665081514979,\n",
       "  0.713622906228385,\n",
       "  0.7233181307138266,\n",
       "  0.732709487457222,\n",
       "  0.7416542823079705,\n",
       "  0.7500098211154713,\n",
       "  0.7576383868941247,\n",
       "  0.7645360450778849,\n",
       "  0.770844339675485,\n",
       "  0.7767121362442138,\n",
       "  0.7822883003413589])"
      ]
     },
     "execution_count": 17,
     "metadata": {},
     "output_type": "execute_result"
    }
   ],
   "source": [
    "cx,cy"
   ]
  },
  {
   "cell_type": "code",
   "execution_count": 12,
   "id": "416299b5-f94e-4dc3-a342-f13fd2d4236c",
   "metadata": {},
   "outputs": [],
   "source": [
    "ax=[2196,1573,1164,1085,1125,1061,453,292,450,508,597,643]\n",
    "ay=[200,191,261,880,1750,1976,1997,1998,1958,1924,1851,1854]\n",
    "\n",
    "ax=[i*60/2331 for i in ax[-4:]]\n",
    "ay=[i*60/2331 for i in ay[-4:]]"
   ]
  },
  {
   "cell_type": "code",
   "execution_count": 13,
   "id": "5f726688-71b4-4ef4-8368-0968797e5a1e",
   "metadata": {},
   "outputs": [],
   "source": [
    "dl=0.2\n",
    "cx, cy, cyaw, ck, s = cubic_spline_planner.calc_spline_course(\n",
    "        ax, ay, ds=dl)"
   ]
  },
  {
   "cell_type": "code",
   "execution_count": 14,
   "id": "6b87d1e0-e1d6-4fe8-a0af-de28c871c274",
   "metadata": {},
   "outputs": [
    {
     "data": {
      "text/plain": [
       "4"
      ]
     },
     "execution_count": 14,
     "metadata": {},
     "output_type": "execute_result"
    }
   ],
   "source": [
    "len(ax)"
   ]
  },
  {
   "cell_type": "code",
   "execution_count": 15,
   "id": "908cf0df-a784-474f-b62a-05dbd3a409e1",
   "metadata": {},
   "outputs": [
    {
     "data": {
      "text/plain": [
       "4"
      ]
     },
     "execution_count": 15,
     "metadata": {},
     "output_type": "execute_result"
    }
   ],
   "source": [
    "len(ay)"
   ]
  },
  {
   "cell_type": "code",
   "execution_count": 16,
   "id": "d1c405d1-c71f-4417-a8af-4ca0015e489c",
   "metadata": {},
   "outputs": [
    {
     "data": {
      "text/plain": [
       "<matplotlib.collections.PathCollection at 0x7fc5870e3b50>"
      ]
     },
     "execution_count": 16,
     "metadata": {},
     "output_type": "execute_result"
    },
    {
     "data": {
      "image/png": "[encoded data removed]",
      "text/plain": [
       "<Figure size 432x288 with 1 Axes>"
      ]
     },
     "metadata": {
      "needs_background": "light"
     },
     "output_type": "display_data"
    }
   ],
   "source": [
    "plt.scatter(cx,cy)"
   ]
  },
  {
   "cell_type": "code",
   "execution_count": 17,
   "id": "39d2e211-e44b-4f5c-850e-bbc528d7b8b2",
   "metadata": {},
   "outputs": [
    {
     "name": "stdout",
     "output_type": "stream",
     "text": [
      "[0.8108108108108109, 0.9446589446589446, 1.2072072072072073, 1.3745173745173744, 1.546975546975547, 1.8018018018018018]\n",
      "[5.117117117117117, 5.117117117117117, 5.057915057915058, 4.916344916344916, 4.787644787644788, 4.754182754182755]\n"
     ]
    },
    {
     "data": {
      "image/png": "[encoded data removed]",
      "text/plain": [
       "<Figure size 432x288 with 1 Axes>"
      ]
     },
     "metadata": {
      "needs_background": "light"
     },
     "output_type": "display_data"
    }
   ],
   "source": [
    "ax=[315,367,469,534,601,700]\n",
    "ay=[1988,1988,1965,1910,1860,1847]\n",
    "\n",
    "\n",
    "# ax.reverse()\n",
    "# ay.reverse()\n",
    "\n",
    "ax=[i*6/2331 for i in ax]\n",
    "ay=[i*6/2331 for i in ay]\n",
    "\n",
    "# ax=[0,5,10,15,15]\n",
    "# ay=[10,5,0,-5,-10]\n",
    "plt.scatter(ax,ay)\n",
    "print(ax)\n",
    "print(ay)\n",
    "dl=0.05\n",
    "cx, cy, cyaw, ck, s = cubic_spline_planner.calc_spline_course(\n",
    "        ax, ay, ds=dl)\n",
    "# reverse yaw\n",
    "cyaw = [i - math.pi for i in cyaw]"
   ]
  },
  {
   "cell_type": "code",
   "execution_count": 18,
   "id": "98a370d4-5758-4611-9288-227464cd6332",
   "metadata": {},
   "outputs": [
    {
     "data": {
      "text/plain": [
       "<matplotlib.collections.PathCollection at 0x7fc58703aaf0>"
      ]
     },
     "execution_count": 18,
     "metadata": {},
     "output_type": "execute_result"
    },
    {
     "data": {
      "image/png": "[encoded data removed]",
      "text/plain": [
       "<Figure size 432x288 with 1 Axes>"
      ]
     },
     "metadata": {
      "needs_background": "light"
     },
     "output_type": "display_data"
    }
   ],
   "source": [
    "plt.scatter(cx,cy)"
   ]
  },
  {
   "cell_type": "code",
   "execution_count": null,
   "id": "c336a020-6630-4736-a84a-953da76b76d1",
   "metadata": {},
   "outputs": [],
   "source": []
  },
  {
   "cell_type": "code",
   "execution_count": 19,
   "id": "4c20604a-99a5-4025-870c-aa5bb8c8de7c",
   "metadata": {},
   "outputs": [],
   "source": [
    "def do_simulation(cx, cy, cyaw, ck, sp, dl, initial_state):\n",
    "    \"\"\"\n",
    "    Simulation\n",
    "\n",
    "    cx: course x position list\n",
    "    cy: course y position list\n",
    "    cy: course yaw position list\n",
    "    ck: course curvature list\n",
    "    sp: speed profile\n",
    "    dl: course tick [m]\n",
    "\n",
    "    \"\"\"\n",
    "\n",
    "    goal = [cx[-1], cy[-1]]\n",
    "\n",
    "    state = initial_state\n",
    "\n",
    "    # initial yaw compensation\n",
    "    if state.yaw - cyaw[0] >= math.pi:\n",
    "        state.yaw -= math.pi * 2.0\n",
    "    elif state.yaw - cyaw[0] <= -math.pi:\n",
    "        state.yaw += math.pi * 2.0\n",
    "\n",
    "    time = 0.0\n",
    "    x = [state.x]\n",
    "    y = [state.y]\n",
    "    yaw = [state.yaw]\n",
    "    v = [state.v]\n",
    "    t = [0.0]\n",
    "    d = [0.0]\n",
    "    a = [0.0]\n",
    "    target_ind, _ = calc_nearest_index(state, cx, cy, cyaw, 0)\n",
    "\n",
    "    odelta, oa = None, None\n",
    "\n",
    "    cyaw = smooth_yaw(cyaw)\n",
    "\n",
    "    while MAX_TIME >= time:\n",
    "        xref, target_ind, dref = calc_ref_trajectory(\n",
    "            state, cx, cy, cyaw, ck, sp, dl, target_ind)\n",
    "\n",
    "        x0 = [state.x, state.y, state.v, state.yaw]  # current state\n",
    "\n",
    "        oa, odelta, ox, oy, oyaw, ov = iterative_linear_mpc_control(\n",
    "            xref, x0, dref, oa, odelta)\n",
    "\n",
    "        if odelta is not None:\n",
    "            di, ai = odelta[0], oa[0]\n",
    "\n",
    "        state = update_state(state, ai, di)\n",
    "        time = time + DT\n",
    "\n",
    "        x.append(state.x)\n",
    "        y.append(state.y)\n",
    "        yaw.append(state.yaw)\n",
    "        v.append(state.v)\n",
    "        t.append(time)\n",
    "        d.append(di)\n",
    "        a.append(ai)\n",
    "\n",
    "        if check_goal(state, goal, target_ind, len(cx)):\n",
    "            print(\"Goal\")\n",
    "            break\n",
    "\n",
    "        # if show_animation:\n",
    "        #     plt.cla()\n",
    "        #     if ox is not None:\n",
    "        #         plt.plot(ox, oy, \"xr\", label=\"MPC\")\n",
    "        #     plt.plot(cx, cy, \"-r\", label=\"course\")\n",
    "        #     plt.plot(x, y, \"ob\", label=\"trajectory\")\n",
    "        #     plt.plot(xref[0, :], xref[1, :], \"xk\", label=\"xref\")\n",
    "        #     plt.plot(cx[target_ind], cy[target_ind], \"xg\", label=\"target\")\n",
    "        #     plot_car(state.x, state.y, state.yaw, steer=di)\n",
    "        #     plt.axis(\"equal\")\n",
    "        #     plt.grid(True)\n",
    "        #     plt.title(\"Time[s]:\" + str(round(time, 2)) +\n",
    "        #               \", speed[km/h]:\" + str(round(state.v * 3.6, 2)))\n",
    "        #     plt.pause(0.0001)\n",
    "\n",
    "    return t, x, y, yaw, v, d, a\n",
    "\n",
    "\n",
    "def calc_speed_profile(cx, cy, cyaw, target_speed):\n",
    "\n",
    "    speed_profile = [target_speed] * len(cx)\n",
    "    direction = 1.0  # forward\n",
    "\n",
    "    # Set stop point\n",
    "    for i in range(len(cx) - 1):\n",
    "        dx = cx[i + 1] - cx[i]\n",
    "        dy = cy[i + 1] - cy[i]\n",
    "\n",
    "        move_direction = math.atan2(dy, dx)\n",
    "\n",
    "        if dx != 0.0 and dy != 0.0:\n",
    "            dangle = abs(pi_2_pi(move_direction - cyaw[i]))\n",
    "            if dangle >= math.pi / 4.0:\n",
    "                direction = -1.0\n",
    "            else:\n",
    "                direction = 1.0\n",
    "\n",
    "        if direction != 1.0:\n",
    "            speed_profile[i] = - target_speed\n",
    "        else:\n",
    "            speed_profile[i] = target_speed\n",
    "\n",
    "    speed_profile[-1] = 0.0\n",
    "\n",
    "    return speed_profile\n",
    "\n",
    "\n",
    "def smooth_yaw(yaw):\n",
    "\n",
    "    for i in range(len(yaw) - 1):\n",
    "        dyaw = yaw[i + 1] - yaw[i]\n",
    "\n",
    "        while dyaw >= math.pi / 2.0:\n",
    "            yaw[i + 1] -= math.pi * 2.0\n",
    "            dyaw = yaw[i + 1] - yaw[i]\n",
    "\n",
    "        while dyaw <= -math.pi / 2.0:\n",
    "            yaw[i + 1] += math.pi * 2.0\n",
    "            dyaw = yaw[i + 1] - yaw[i]\n",
    "\n",
    "    return yaw\n",
    "\n",
    "\n"
   ]
  },
  {
   "cell_type": "code",
   "execution_count": 20,
   "id": "160e4816-213f-4ec5-968d-d7dc739c21ab",
   "metadata": {},
   "outputs": [
    {
     "name": "stdout",
     "output_type": "stream",
     "text": [
      "Goal\n"
     ]
    }
   ],
   "source": [
    "sp = calc_speed_profile(cx, cy, cyaw, TARGET_SPEED)\n",
    "\n",
    "initial_state = State(x=cx[0], y=cy[0], yaw=3.14, v=0.0)\n",
    "\n",
    "t, x, y, yaw, v, d, a = do_simulation(\n",
    "    cx, cy, cyaw, ck, sp, dl, initial_state)"
   ]
  },
  {
   "cell_type": "code",
   "execution_count": 22,
   "id": "3ce0f8bb-70e8-4a52-ad59-aa0583fd81bc",
   "metadata": {},
   "outputs": [
    {
     "data": {
      "image/png": "[encoded data removed]",
      "text/plain": [
       "<Figure size 432x288 with 1 Axes>"
      ]
     },
     "metadata": {
      "needs_background": "light"
     },
     "output_type": "display_data"
    },
    {
     "data": {
      "image/png": "[encoded data removed]",
      "text/plain": [
       "<Figure size 432x288 with 1 Axes>"
      ]
     },
     "metadata": {
      "needs_background": "light"
     },
     "output_type": "display_data"
    }
   ],
   "source": [
    "plt.close(\"all\")\n",
    "plt.subplots()\n",
    "plt.plot(cx, cy, \"-r\", label=\"spline\")\n",
    "plt.plot(x, y, \"-g\", label=\"tracking\")\n",
    "plt.grid(True)\n",
    "plt.axis(\"equal\")\n",
    "plt.xlabel(\"x[m]\")\n",
    "plt.ylabel(\"y[m]\")\n",
    "plt.legend()\n",
    "\n",
    "plt.subplots()\n",
    "plt.plot(t, v, \"-r\", label=\"speed\")\n",
    "plt.grid(True)\n",
    "plt.xlabel(\"Time [s]\")\n",
    "plt.ylabel(\"Speed [kmh]\")\n",
    "\n",
    "plt.show()"
   ]
  },
  {
   "cell_type": "code",
   "execution_count": 193,
   "id": "088f4068-3ddc-42a2-b800-d12715353508",
   "metadata": {},
   "outputs": [
    {
     "data": {
      "text/plain": [
       "[<matplotlib.lines.Line2D at 0x7fbc47b6c520>]"
      ]
     },
     "execution_count": 193,
     "metadata": {},
     "output_type": "execute_result"
    },
    {
     "data": {
      "image/png": "[encoded data removed]",
      "text/plain": [
       "<Figure size 432x288 with 1 Axes>"
      ]
     },
     "metadata": {
      "needs_background": "light"
     },
     "output_type": "display_data"
    }
   ],
   "source": [
    "plt.plot(cyaw)"
   ]
  },
  {
   "cell_type": "code",
   "execution_count": 3,
   "id": "cc79f93c-297c-4e97-a135-5eaf08a2de4b",
   "metadata": {},
   "outputs": [],
   "source": [
    "h=(0.83, 0.82, 0.82, 0.7844444444444444, 0.7577777777777779, 0.7400000000000002, 0.7311111111111112, 0.7311111111111112, 0.74, 0.7577777777777777, 0.7844444444444445, 0.82, 0.82, 0.82, 0.82, 0.82, 0.82, 0.82, 0.7844444444444444, 0.7577777777777779, 0.7400000000000002, 0.7311111111111112, 0.7311111111111112, 0.74, 0.7577777777777777, 0.7844444444444445, 0.82, 0.82, 0.82, 0.81, 0.81, 0.81, 0.81, 0.82, 0.82, 0.7844444444444444, 0.7577777777777779, 0.7400000000000002, 0.7311111111111112, 0.7311111111111112, 0.74, 0.7577777777777777, 0.7844444444444445, 0.82, 0.82, 0.82, 0.82, 0.82, 0.83, 0.83, 0.83, 0.83, 0.82, 0.83, 1.02, 1.35, 1.73, 2.11, 2.48, 2.86, 3.24, 3.61, 3.99, 4.37, 4.75, 5.12, 5.5, 5.88),(14.67, 14.29, 14.29, 14.125432098765431, 13.960617283950617, 13.795555555555557, 13.630246913580246, 13.464691358024691, 13.29888888888889, 13.13283950617284, 12.966543209876544, 12.8, 12.8, 12.42, 12.04, 11.66, 11.39, 11.39, 11.225432098765433, 11.060617283950618, 10.895555555555557, 10.730246913580249, 10.564691358024692, 10.39888888888889, 10.23283950617284, 10.066543209876544, 9.9, 9.9, 9.52, 9.14, 8.76, 8.38, 7.99, 7.54, 7.54, 7.373333333333333, 7.206666666666667, 7.040000000000001, 6.873333333333334, 6.706666666666667, 6.540000000000001, 6.373333333333333, 6.206666666666667, 6.04, 6.04, 5.66, 5.28, 4.9, 4.52, 4.14, 3.76, 3.38, 3.0, 2.62, 2.29, 2.11, 2.09, 2.09, 2.09, 2.09, 2.08, 2.08, 2.08, 2.08, 2.08, 2.08, 2.09, 2.09)\n"
   ]
  },
  {
   "cell_type": "code",
   "execution_count": 4,
   "id": "7f29d249-a030-47a2-9f1c-8f0dc5e3809e",
   "metadata": {},
   "outputs": [],
   "source": [
    "x=h[0]\n",
    "y=h[1]"
   ]
  },
  {
   "cell_type": "code",
   "execution_count": 7,
   "id": "4ace784b-026c-4aac-9ca3-8041b0ba6120",
   "metadata": {},
   "outputs": [
    {
     "data": {
      "text/plain": [
       "[<matplotlib.lines.Line2D at 0x7f5e70d90ac0>]"
      ]
     },
     "execution_count": 7,
     "metadata": {},
     "output_type": "execute_result"
    },
    {
     "data": {
      "image/png": "[encoded data removed]",
      "text/plain": [
       "<Figure size 432x288 with 1 Axes>"
      ]
     },
     "metadata": {
      "needs_background": "light"
     },
     "output_type": "display_data"
    }
   ],
   "source": [
    "import matplotlib.pyplot as plt\n",
    "plt.plot(x,y)"
   ]
  },
  {
   "cell_type": "code",
   "execution_count": 8,
   "id": "c7d899e4-4aaf-403a-9a9c-ad7d6636f1a0",
   "metadata": {},
   "outputs": [],
   "source": [
    "import cubic_spline_planner"
   ]
  },
  {
   "cell_type": "code",
   "execution_count": 9,
   "id": "27e6fb65-0660-4393-986c-68f42a965c31",
   "metadata": {},
   "outputs": [
    {
     "name": "stderr",
     "output_type": "stream",
     "text": [
      "/home/kaypee/Documents/akatsuki_au_bfmc21/nbs/cubic_spline_planner.py:124: RuntimeWarning: invalid value encountered in double_scalars\n",
      "  B[i + 1] = 3.0 * (self.a[i + 2] - self.a[i + 1]) / \\\n",
      "/home/kaypee/Documents/akatsuki_au_bfmc21/nbs/cubic_spline_planner.py:125: RuntimeWarning: invalid value encountered in double_scalars\n",
      "  h[i + 1] - 3.0 * (self.a[i + 1] - self.a[i]) / h[i]\n",
      "/home/kaypee/Documents/akatsuki_au_bfmc21/nbs/cubic_spline_planner.py:38: RuntimeWarning: invalid value encountered in double_scalars\n",
      "  tb = (self.a[i + 1] - self.a[i]) / h[i] - h[i] * \\\n"
     ]
    }
   ],
   "source": [
    "cx, cy, cyaw, ck, s = cubic_spline_planner.calc_spline_course(\n",
    "        x, y,ds=0.2)"
   ]
  },
  {
   "cell_type": "code",
   "execution_count": 55,
   "id": "bd8d9e8a-cbbf-46d0-bbea-d02419e19786",
   "metadata": {},
   "outputs": [
    {
     "data": {
      "text/plain": [
       "[<matplotlib.lines.Line2D at 0x7fc585cb6730>]"
      ]
     },
     "execution_count": 55,
     "metadata": {},
     "output_type": "execute_result"
    },
    {
     "data": {
      "image/png": "[encoded data removed]",
      "text/plain": [
       "<Figure size 432x288 with 1 Axes>"
      ]
     },
     "metadata": {
      "needs_background": "light"
     },
     "output_type": "display_data"
    }
   ],
   "source": [
    "plt.plot(cx,cy)"
   ]
  },
  {
   "cell_type": "code",
   "execution_count": 44,
   "id": "bdda8ab8-fdbc-4bed-9cfe-d7ef81cf1baa",
   "metadata": {},
   "outputs": [
    {
     "data": {
      "text/plain": [
       "[nan,\n",
       " nan,\n",
       " nan,\n",
       " nan,\n",
       " nan,\n",
       " nan,\n",
       " nan,\n",
       " nan,\n",
       " nan,\n",
       " nan,\n",
       " nan,\n",
       " nan,\n",
       " nan,\n",
       " nan,\n",
       " nan,\n",
       " nan,\n",
       " nan,\n",
       " nan,\n",
       " nan,\n",
       " nan,\n",
       " nan,\n",
       " nan,\n",
       " nan,\n",
       " nan,\n",
       " nan,\n",
       " nan,\n",
       " nan,\n",
       " nan,\n",
       " nan,\n",
       " nan,\n",
       " nan,\n",
       " nan,\n",
       " nan,\n",
       " nan,\n",
       " nan,\n",
       " nan,\n",
       " nan,\n",
       " nan,\n",
       " nan,\n",
       " nan,\n",
       " nan,\n",
       " nan,\n",
       " nan,\n",
       " nan,\n",
       " nan,\n",
       " nan,\n",
       " nan,\n",
       " nan,\n",
       " nan,\n",
       " nan,\n",
       " nan,\n",
       " nan,\n",
       " nan,\n",
       " nan,\n",
       " nan,\n",
       " nan,\n",
       " nan,\n",
       " nan,\n",
       " nan,\n",
       " nan,\n",
       " nan,\n",
       " nan,\n",
       " nan,\n",
       " nan,\n",
       " nan,\n",
       " nan,\n",
       " nan,\n",
       " nan,\n",
       " nan,\n",
       " nan,\n",
       " nan,\n",
       " nan,\n",
       " nan,\n",
       " nan,\n",
       " nan,\n",
       " nan,\n",
       " nan,\n",
       " nan,\n",
       " nan,\n",
       " nan,\n",
       " nan,\n",
       " nan,\n",
       " nan,\n",
       " nan,\n",
       " nan,\n",
       " nan,\n",
       " nan,\n",
       " nan,\n",
       " nan,\n",
       " nan,\n",
       " nan,\n",
       " nan,\n",
       " nan,\n",
       " nan,\n",
       " nan,\n",
       " nan,\n",
       " nan,\n",
       " nan,\n",
       " nan,\n",
       " nan,\n",
       " nan,\n",
       " nan,\n",
       " nan,\n",
       " nan,\n",
       " nan,\n",
       " nan,\n",
       " nan,\n",
       " nan,\n",
       " nan,\n",
       " nan,\n",
       " nan,\n",
       " nan,\n",
       " nan,\n",
       " nan,\n",
       " nan,\n",
       " nan,\n",
       " nan,\n",
       " nan,\n",
       " nan,\n",
       " nan,\n",
       " nan,\n",
       " nan,\n",
       " nan,\n",
       " nan,\n",
       " nan,\n",
       " nan,\n",
       " nan,\n",
       " nan,\n",
       " nan,\n",
       " nan,\n",
       " nan,\n",
       " nan,\n",
       " nan,\n",
       " nan,\n",
       " nan,\n",
       " nan,\n",
       " nan,\n",
       " nan,\n",
       " nan,\n",
       " nan,\n",
       " nan,\n",
       " nan,\n",
       " nan,\n",
       " nan,\n",
       " nan,\n",
       " nan,\n",
       " nan,\n",
       " nan,\n",
       " nan,\n",
       " nan,\n",
       " nan,\n",
       " nan,\n",
       " nan,\n",
       " nan,\n",
       " nan,\n",
       " nan,\n",
       " nan,\n",
       " nan,\n",
       " nan,\n",
       " nan,\n",
       " nan,\n",
       " nan,\n",
       " nan,\n",
       " nan,\n",
       " nan,\n",
       " nan,\n",
       " nan,\n",
       " nan,\n",
       " nan,\n",
       " nan,\n",
       " nan,\n",
       " nan,\n",
       " nan,\n",
       " nan]"
      ]
     },
     "execution_count": 44,
     "metadata": {},
     "output_type": "execute_result"
    }
   ],
   "source": [
    "cx"
   ]
  },
  {
   "cell_type": "code",
   "execution_count": null,
   "id": "37627f81-dc4b-4e45-a481-d9c5045d0e19",
   "metadata": {},
   "outputs": [],
   "source": []
  }
 ],
 "metadata": {
  "kernelspec": {
   "display_name": "Python 3 (ipykernel)",
   "language": "python",
   "name": "python3"
  },
  "language_info": {
   "codemirror_mode": {
    "name": "ipython",
    "version": 3
   },
   "file_extension": ".py",
   "mimetype": "text/x-python",
   "name": "python",
   "nbconvert_exporter": "python",
   "pygments_lexer": "ipython3",
   "version": "3.9.5"
  }
 },
 "nbformat": 4,
 "nbformat_minor": 5
}
