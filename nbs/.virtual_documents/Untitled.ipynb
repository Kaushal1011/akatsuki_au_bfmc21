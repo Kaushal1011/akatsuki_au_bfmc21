import cv2
import requests
import numpy as np
count=0
r = requests.get('http://10.20.2.114/asp/video.cgi', auth=('admin', 'admin'), stream=True)
if(r.status_code == 200):
    bytes1 = bytes()
    for chunk in r.iter_content(chunk_size=1024):
        count+=1
        bytes1 += chunk
        a = bytes1.find(b'\xff\xd8')
        b = bytes1.find(b'\xff\xd9')
        if a != -1 and b != -1:            
            if count%20==0:
                jpg = bytes1[a:b+2]
                bytes1 = bytes1[b+2:]
                i = cv2.imdecode(np.fromstring(jpg, dtype=np.uint8), cv2.IMREAD_COLOR)
                # specify desired output size 
                width = 720
                height = 1280
                # specify conjugate x,y coordinates (not y,x)
                input = np.float32([[2,370], [589,51], [1264,66], [806,719]])
                output = np.float32([[0,0], [width-1,0], [width-1,width-1], [0,width-1]])

                # compute perspective matrixbytes1 = bytes1[b+2:]
                i = cv2.imdecode(np.fromstring(jpg, dtype=np.uint8), cv2.IMREAD_COLOR)
                # specify desired output size 
                width = 720
                height = 1280
                matrix = cv2.getPerspectiveTransform(input,output)

                # do perspective transformation setting area outside input to black
                imgOutput = cv2.warpPerspective(i, matrix, (width,width), cv2.INTER_LINEAR, borderMode=cv2.BORDER_CONSTANT, borderValue=(0,0,0))

                cv2.imshow('Track Image', imgOutput)
                cv2.imwrite("TrackImage2.png",imgOutput)
            key=cv2.waitKey(1) 
            if key == 27 or key ==113:
                break
            else:
                if key!=-1:
                    print(key)
                pass
                
else:
    print("Received unexpected status code {}".format(r.status_code))


import cv2
import os
os.environ["KMP_DUPLICATE_LIB_OK"]="TRUE"
import matplotlib.pyplot as plt
img=cv2.imread("TrackImage.png")
img = cv2.cvtColor(img, cv2.COLOR_BGR2RGB )
# cv2.imshow("tm",img)
# key=cv2.waitKey(0) 



plt.figure(figsize=(20,20))
plt.imshow(img)


import cv2
import os
os.environ["KMP_DUPLICATE_LIB_OK"]="TRUE"
import matplotlib.pyplot as plt
img=cv2.imread("TrackImage2.png")
img = cv2.cvtColor(img, cv2.COLOR_BGR2RGB )
# cv2.imshow("tm",img)
# key=cv2.waitKey(0) 



plt.figure(figsize=(20,20))
plt.imshow(img)



