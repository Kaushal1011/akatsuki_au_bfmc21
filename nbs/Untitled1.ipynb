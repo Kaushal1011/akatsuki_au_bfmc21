{
 "cells": [
  {
   "cell_type": "code",
   "execution_count": 18,
   "id": "1a0b4cce-92b0-45af-9ae7-f05a47425c70",
   "metadata": {},
   "outputs": [],
   "source": [
    "a=(0,0)\n",
    "b=(0,5)\n",
    "c=(5,5)"
   ]
  },
  {
   "cell_type": "code",
   "execution_count": 19,
   "id": "c5749be2-b12a-4837-ad7a-d99d331533f5",
   "metadata": {},
   "outputs": [],
   "source": [
    "\n",
    "import numpy as np\n",
    "import matplotlib.pyplot as plt\n"
   ]
  },
  {
   "cell_type": "code",
   "execution_count": 20,
   "id": "24e56d16-a1cc-4930-8762-b061a947d600",
   "metadata": {},
   "outputs": [
    {
     "data": {
      "text/plain": [
       "(-1.0, 6.0)"
      ]
     },
     "execution_count": 20,
     "metadata": {},
     "output_type": "execute_result"
    },
    {
     "data": {
      "image/png": "[encoded data removed]",
      "text/plain": [
       "<Figure size 432x288 with 1 Axes>"
      ]
     },
     "metadata": {
      "needs_background": "light"
     },
     "output_type": "display_data"
    }
   ],
   "source": [
    "plt.scatter(a[0],a[1])\n",
    "plt.scatter(b[0],b[1])\n",
    "plt.scatter(c[0],c[1])\n",
    "plt.xlim(-1,6)\n",
    "plt.ylim(-1,6)"
   ]
  },
  {
   "cell_type": "code",
   "execution_count": 21,
   "id": "504ffb24-3ffa-4ea9-80ba-8c9c218cf3c6",
   "metadata": {},
   "outputs": [],
   "source": [
    "pltlist=[a,b,c,c]"
   ]
  },
  {
   "cell_type": "code",
   "execution_count": 22,
   "id": "d7046dfc-46f1-4dfa-8212-92bdac96ba97",
   "metadata": {},
   "outputs": [],
   "source": [
    "x,y=zip(*pltlist)"
   ]
  },
  {
   "cell_type": "code",
   "execution_count": 23,
   "id": "6fd188be-4cea-4c74-9a98-7732de33dc69",
   "metadata": {},
   "outputs": [
    {
     "data": {
      "text/plain": [
       "[<matplotlib.lines.Line2D at 0x7fb1ab020070>]"
      ]
     },
     "execution_count": 23,
     "metadata": {},
     "output_type": "execute_result"
    },
    {
     "data": {
      "image/png": "[encoded data removed]",
      "text/plain": [
       "<Figure size 432x288 with 1 Axes>"
      ]
     },
     "metadata": {
      "needs_background": "light"
     },
     "output_type": "display_data"
    }
   ],
   "source": [
    "plt.plot(x,y)"
   ]
  },
  {
   "cell_type": "code",
   "execution_count": 24,
   "id": "89f4e61c-5947-43fb-abeb-64e951b41da8",
   "metadata": {},
   "outputs": [
    {
     "data": {
      "image/png": "[encoded data removed]",
      "text/plain": [
       "<Figure size 432x288 with 1 Axes>"
      ]
     },
     "metadata": {
      "needs_background": "light"
     },
     "output_type": "display_data"
    }
   ],
   "source": [
    "import numpy as np\n",
    "from scipy.interpolate import interp1d # Different interface to the same function\n",
    "import matplotlib.pyplot as plt\n",
    "\n",
    "#pts = np.array([...]) # Your points\n",
    "\n",
    "i = np.arange(len(x))\n",
    "\n",
    "# 5x the original number of points\n",
    "interp_i = np.linspace(0, i.max(), 5 * i.max())\n",
    "\n",
    "xi = interp1d(i, x, kind='cubic')(interp_i)\n",
    "yi = interp1d(i, y, kind='cubic')(interp_i)\n",
    "\n",
    "fig, ax = plt.subplots()\n",
    "ax.plot(xi, yi)\n",
    "ax.plot(x, y, 'ko')\n",
    "plt.show()"
   ]
  },
  {
   "cell_type": "code",
   "execution_count": 45,
   "id": "0d1528ff-24e2-4afd-879f-a34378b60fbd",
   "metadata": {},
   "outputs": [
    {
     "ename": "TypeError",
     "evalue": "m > k must hold",
     "output_type": "error",
     "traceback": [
      "\u001b[0;31m---------------------------------------------------------------------------\u001b[0m",
      "\u001b[0;31mTypeError\u001b[0m                                 Traceback (most recent call last)",
      "Input \u001b[0;32mIn [45]\u001b[0m, in \u001b[0;36m<module>\u001b[0;34m\u001b[0m\n\u001b[1;32m      2\u001b[0m \u001b[38;5;28;01mimport\u001b[39;00m \u001b[38;5;21;01mmatplotlib\u001b[39;00m\u001b[38;5;21;01m.\u001b[39;00m\u001b[38;5;21;01mpyplot\u001b[39;00m \u001b[38;5;28;01mas\u001b[39;00m \u001b[38;5;21;01mplt\u001b[39;00m\n\u001b[1;32m      3\u001b[0m \u001b[38;5;28;01mimport\u001b[39;00m \u001b[38;5;21;01mnumpy\u001b[39;00m \u001b[38;5;28;01mas\u001b[39;00m \u001b[38;5;21;01mnp\u001b[39;00m \n\u001b[0;32m----> 4\u001b[0m tck \u001b[38;5;241m=\u001b[39m \u001b[43minterpolate\u001b[49m\u001b[38;5;241;43m.\u001b[39;49m\u001b[43msplrep\u001b[49m\u001b[43m(\u001b[49m\u001b[43mx\u001b[49m\u001b[43m[\u001b[49m\u001b[43m:\u001b[49m\u001b[38;5;241;43m-\u001b[39;49m\u001b[38;5;241;43m1\u001b[39;49m\u001b[43m]\u001b[49m\u001b[43m,\u001b[49m\u001b[43m \u001b[49m\u001b[43my\u001b[49m\u001b[43m[\u001b[49m\u001b[43m:\u001b[49m\u001b[38;5;241;43m-\u001b[39;49m\u001b[38;5;241;43m1\u001b[39;49m\u001b[43m]\u001b[49m\u001b[43m)\u001b[49m\n",
      "File \u001b[0;32m~/miniconda3/lib/python3.9/site-packages/scipy/interpolate/fitpack.py:291\u001b[0m, in \u001b[0;36msplrep\u001b[0;34m(x, y, w, xb, xe, k, task, s, t, full_output, per, quiet)\u001b[0m\n\u001b[1;32m    160\u001b[0m \u001b[38;5;28;01mdef\u001b[39;00m \u001b[38;5;21msplrep\u001b[39m(x, y, w\u001b[38;5;241m=\u001b[39m\u001b[38;5;28;01mNone\u001b[39;00m, xb\u001b[38;5;241m=\u001b[39m\u001b[38;5;28;01mNone\u001b[39;00m, xe\u001b[38;5;241m=\u001b[39m\u001b[38;5;28;01mNone\u001b[39;00m, k\u001b[38;5;241m=\u001b[39m\u001b[38;5;241m3\u001b[39m, task\u001b[38;5;241m=\u001b[39m\u001b[38;5;241m0\u001b[39m, s\u001b[38;5;241m=\u001b[39m\u001b[38;5;28;01mNone\u001b[39;00m, t\u001b[38;5;241m=\u001b[39m\u001b[38;5;28;01mNone\u001b[39;00m,\n\u001b[1;32m    161\u001b[0m            full_output\u001b[38;5;241m=\u001b[39m\u001b[38;5;241m0\u001b[39m, per\u001b[38;5;241m=\u001b[39m\u001b[38;5;241m0\u001b[39m, quiet\u001b[38;5;241m=\u001b[39m\u001b[38;5;241m1\u001b[39m):\n\u001b[1;32m    162\u001b[0m     \u001b[38;5;124;03m\"\"\"\u001b[39;00m\n\u001b[1;32m    163\u001b[0m \u001b[38;5;124;03m    Find the B-spline representation of a 1-D curve.\u001b[39;00m\n\u001b[1;32m    164\u001b[0m \n\u001b[0;32m   (...)\u001b[0m\n\u001b[1;32m    289\u001b[0m \n\u001b[1;32m    290\u001b[0m \u001b[38;5;124;03m    \"\"\"\u001b[39;00m\n\u001b[0;32m--> 291\u001b[0m     res \u001b[38;5;241m=\u001b[39m \u001b[43m_impl\u001b[49m\u001b[38;5;241;43m.\u001b[39;49m\u001b[43msplrep\u001b[49m\u001b[43m(\u001b[49m\u001b[43mx\u001b[49m\u001b[43m,\u001b[49m\u001b[43m \u001b[49m\u001b[43my\u001b[49m\u001b[43m,\u001b[49m\u001b[43m \u001b[49m\u001b[43mw\u001b[49m\u001b[43m,\u001b[49m\u001b[43m \u001b[49m\u001b[43mxb\u001b[49m\u001b[43m,\u001b[49m\u001b[43m \u001b[49m\u001b[43mxe\u001b[49m\u001b[43m,\u001b[49m\u001b[43m \u001b[49m\u001b[43mk\u001b[49m\u001b[43m,\u001b[49m\u001b[43m \u001b[49m\u001b[43mtask\u001b[49m\u001b[43m,\u001b[49m\u001b[43m \u001b[49m\u001b[43ms\u001b[49m\u001b[43m,\u001b[49m\u001b[43m \u001b[49m\u001b[43mt\u001b[49m\u001b[43m,\u001b[49m\u001b[43m \u001b[49m\u001b[43mfull_output\u001b[49m\u001b[43m,\u001b[49m\u001b[43m \u001b[49m\u001b[43mper\u001b[49m\u001b[43m,\u001b[49m\u001b[43m \u001b[49m\u001b[43mquiet\u001b[49m\u001b[43m)\u001b[49m\n\u001b[1;32m    292\u001b[0m     \u001b[38;5;28;01mreturn\u001b[39;00m res\n",
      "File \u001b[0;32m~/miniconda3/lib/python3.9/site-packages/scipy/interpolate/_fitpack_impl.py:461\u001b[0m, in \u001b[0;36msplrep\u001b[0;34m(x, y, w, xb, xe, k, task, s, t, full_output, per, quiet)\u001b[0m\n\u001b[1;32m    458\u001b[0m     \u001b[38;5;28;01mraise\u001b[39;00m \u001b[38;5;167;01mTypeError\u001b[39;00m(\u001b[38;5;124m'\u001b[39m\u001b[38;5;124mGiven degree of the spline (k=\u001b[39m\u001b[38;5;132;01m%d\u001b[39;00m\u001b[38;5;124m) is not supported. \u001b[39m\u001b[38;5;124m'\u001b[39m\n\u001b[1;32m    459\u001b[0m                     \u001b[38;5;124m'\u001b[39m\u001b[38;5;124m(1<=k<=5)\u001b[39m\u001b[38;5;124m'\u001b[39m \u001b[38;5;241m%\u001b[39m k)\n\u001b[1;32m    460\u001b[0m \u001b[38;5;28;01mif\u001b[39;00m m \u001b[38;5;241m<\u001b[39m\u001b[38;5;241m=\u001b[39m k:\n\u001b[0;32m--> 461\u001b[0m     \u001b[38;5;28;01mraise\u001b[39;00m \u001b[38;5;167;01mTypeError\u001b[39;00m(\u001b[38;5;124m'\u001b[39m\u001b[38;5;124mm > k must hold\u001b[39m\u001b[38;5;124m'\u001b[39m)\n\u001b[1;32m    462\u001b[0m \u001b[38;5;28;01mif\u001b[39;00m xb \u001b[38;5;129;01mis\u001b[39;00m \u001b[38;5;28;01mNone\u001b[39;00m:\n\u001b[1;32m    463\u001b[0m     xb \u001b[38;5;241m=\u001b[39m x[\u001b[38;5;241m0\u001b[39m]\n",
      "\u001b[0;31mTypeError\u001b[0m: m > k must hold"
     ]
    }
   ],
   "source": [
    "from scipy import interpolate\n",
    "import matplotlib.pyplot as plt\n",
    "import numpy as np \n",
    "tck = interpolate.splrep(x[:-1], y[:-1])"
   ]
  },
  {
   "cell_type": "code",
   "execution_count": 40,
   "id": "b9ac9318-f19c-4b2e-b4da-6bfcd0d7772e",
   "metadata": {},
   "outputs": [],
   "source": [
    "x_new = np.linspace(min(x), max(x), 100)\n",
    "y_fit = interpolate.BSpline(*tck)(x_new)"
   ]
  },
  {
   "cell_type": "code",
   "execution_count": 41,
   "id": "1f089452-85b1-4f92-b0ce-99da8abef5d5",
   "metadata": {},
   "outputs": [
    {
     "data": {
      "image/png": "[encoded data removed]",
      "text/plain": [
       "<Figure size 432x288 with 1 Axes>"
      ]
     },
     "metadata": {
      "needs_background": "light"
     },
     "output_type": "display_data"
    }
   ],
   "source": [
    "plt.title(\"BSpline curve fitting\")\n",
    "plt.plot(x, y, 'ro', label=\"original\")\n",
    "plt.plot(x_new, y_fit, '-c', label=\"B-spline\")\n",
    "plt.legend(loc='best', fancybox=True, shadow=True)\n",
    "plt.grid()\n",
    "plt.show() \n",
    "\n",
    " "
   ]
  },
  {
   "cell_type": "code",
   "execution_count": 42,
   "id": "44c65543-7126-4024-9a02-90a51c172221",
   "metadata": {},
   "outputs": [
    {
     "data": {
      "text/plain": [
       "(array([0., 0., 0., 0., 5., 5., 5., 5.]),\n",
       " array([nan, nan, nan,  5.,  0.,  0.,  0.,  0.]),\n",
       " 3)"
      ]
     },
     "execution_count": 42,
     "metadata": {},
     "output_type": "execute_result"
    }
   ],
   "source": [
    "tck"
   ]
  },
  {
   "cell_type": "code",
   "execution_count": 44,
   "id": "b368c154-45ea-482b-abe3-b46cffff5708",
   "metadata": {},
   "outputs": [],
   "source": [
    "# x_new"
   ]
  },
  {
   "cell_type": "code",
   "execution_count": null,
   "id": "5d928d21-65c6-437f-93bc-3ea08edf7d3a",
   "metadata": {},
   "outputs": [],
   "source": []
  }
 ],
 "metadata": {
  "kernelspec": {
   "display_name": "Python 3 (ipykernel)",
   "language": "python",
   "name": "python3"
  },
  "language_info": {
   "codemirror_mode": {
    "name": "ipython",
    "version": 3
   },
   "file_extension": ".py",
   "mimetype": "text/x-python",
   "name": "python",
   "nbconvert_exporter": "python",
   "pygments_lexer": "ipython3",
   "version": "3.9.5"
  }
 },
 "nbformat": 4,
 "nbformat_minor": 5
}
