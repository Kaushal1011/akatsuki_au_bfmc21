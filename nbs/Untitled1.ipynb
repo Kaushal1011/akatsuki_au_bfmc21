{
 "cells": [
  {
   "cell_type": "code",
   "execution_count": 14,
   "id": "220d24ae",
   "metadata": {},
   "outputs": [],
   "source": [
    "import cv2\n",
    "import torch\n",
    "from PIL import Image"
   ]
  },
  {
   "cell_type": "code",
   "execution_count": 15,
   "id": "540b5633",
   "metadata": {},
   "outputs": [
    {
     "name": "stderr",
     "output_type": "stream",
     "text": [
      "Using cache found in /home/alpha91/.cache/torch/hub/ultralytics_yolov5_master\n",
      "YOLOv5 🚀 2022-4-27 torch 1.8.1+cu102 CUDA:0 (NVIDIA GeForce 940MX, 2004MiB)\n",
      "\n",
      "Fusing layers... \n",
      "YOLOv5s summary: 213 layers, 7225885 parameters, 0 gradients\n",
      "Adding AutoShape... \n"
     ]
    }
   ],
   "source": [
    "# Model\n",
    "model = torch.hub.load('ultralytics/yolov5', 'yolov5s')"
   ]
  },
  {
   "cell_type": "code",
   "execution_count": 30,
   "id": "16b16203",
   "metadata": {},
   "outputs": [
    {
     "data": {
      "application/vnd.jupyter.widget-view+json": {
       "model_id": "81cef71ba1374fe9ab9c3b68f656c729",
       "version_major": 2,
       "version_minor": 0
      },
      "text/plain": [
       "  0%|          | 0.00/165k [00:00<?, ?B/s]"
      ]
     },
     "metadata": {},
     "output_type": "display_data"
    },
    {
     "data": {
      "application/vnd.jupyter.widget-view+json": {
       "model_id": "fbd898845abd403aa264c28382a4c99f",
       "version_major": 2,
       "version_minor": 0
      },
      "text/plain": [
       "  0%|          | 0.00/476k [00:00<?, ?B/s]"
      ]
     },
     "metadata": {},
     "output_type": "display_data"
    },
    {
     "name": "stdout",
     "output_type": "stream",
     "text": [
      "(720, 1280, 3)\n",
      "(640, 640, 3)\n",
      "torch.Size([1, 3, 640, 640])\n"
     ]
    },
    {
     "data": {
      "text/plain": [
       "torch.Size([1, 25200, 85])"
      ]
     },
     "execution_count": 30,
     "metadata": {},
     "output_type": "execute_result"
    }
   ],
   "source": [
    "# Images\n",
    "for f in 'zidane.jpg', 'bus.jpg':\n",
    "    torch.hub.download_url_to_file('https://ultralytics.com/images/' + f, f)  # download 2 images\n",
    "im1 = cv2.imread('zidane.jpg')  # PIL image\n",
    "print(im1.shape)\n",
    "im1 = cv2.resize(im1, [640,640])\n",
    "print(im1.shape)\n",
    "#im2 = cv2.imread('bus.jpg')[..., ::-1]  # OpenCV image (BGR to RGB)\n",
    "#imgs = [im1, im2]  # batch of images\n",
    "x = torch.unsqueeze(torch.Tensor(im1).permute([2,0,1]), 0)\n",
    "print(x.shape)\n",
    "# Inference\n",
    "results = model(x, size=640)  # includes NMS\n",
    "\n",
    "# Results\n",
    "results.shape"
   ]
  },
  {
   "cell_type": "code",
   "execution_count": 35,
   "id": "d1112cd9",
   "metadata": {},
   "outputs": [
    {
     "name": "stderr",
     "output_type": "stream",
     "text": [
      "/home/alpha91/.cache/torch/hub/ultralytics_yolov5_master/models/yolo.py:62: TracerWarning: Converting a tensor to a Python boolean might cause the trace to be incorrect. We can't record the data flow of Python values, so this value will be treated as a constant in the future. This means that the trace might not generalize to other inputs!\n",
      "  if self.onnx_dynamic or self.grid[i].shape[2:4] != x[i].shape[2:4]:\n"
     ]
    }
   ],
   "source": [
    "dummy_input = torch.randn(1, 3, 640, 640)\n",
    "torch.onnx.export(model, (dummy_input, ), \"yolov5s.onnx\",opset_version=11)"
   ]
  },
  {
   "cell_type": "code",
   "execution_count": null,
   "id": "5ac74e44",
   "metadata": {},
   "outputs": [],
   "source": []
  }
 ],
 "metadata": {
  "kernelspec": {
   "display_name": "Python 3 (ipykernel)",
   "language": "python",
   "name": "python3"
  },
  "language_info": {
   "codemirror_mode": {
    "name": "ipython",
    "version": 3
   },
   "file_extension": ".py",
   "mimetype": "text/x-python",
   "name": "python",
   "nbconvert_exporter": "python",
   "pygments_lexer": "ipython3",
   "version": "3.7.10"
  }
 },
 "nbformat": 4,
 "nbformat_minor": 5
}
