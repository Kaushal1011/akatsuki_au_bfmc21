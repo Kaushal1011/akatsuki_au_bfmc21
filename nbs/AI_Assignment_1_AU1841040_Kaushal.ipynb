{
 "cells": [
  {
   "cell_type": "markdown",
   "id": "c2e459a1-fc02-4997-b87b-7d17e4c13302",
   "metadata": {},
   "source": [
    "# CSE-518 AI Assignment 1\n",
    "\n",
    "- AU1841040 \n",
    "- Kaushal Patil"
   ]
  },
  {
   "cell_type": "markdown",
   "id": "8747fd49-508b-46a4-ab83-eeb62750499a",
   "metadata": {},
   "source": [
    "## Excercise 1"
   ]
  },
  {
   "cell_type": "markdown",
   "id": "d5795588-6742-46ae-9eb6-0fe2174ee9c5",
   "metadata": {},
   "source": [
    "Given to you is the initial state and final state of board for an 8-puzzle problem. Find the optimal cost path to reach the given final state from the given initial state using the A* Algorithm."
   ]
  },
  {
   "cell_type": "markdown",
   "id": "88028fbd-4e2c-4582-a887-65cf7b7e7099",
   "metadata": {},
   "source": [
    "   2 8 3     \n",
    "   1 6 4  \n",
    "   7 5 _     \n",
    "   Initial State"
   ]
  },
  {
   "cell_type": "markdown",
   "id": "3a919a91-0792-4170-bf07-80f155eca422",
   "metadata": {},
   "source": [
    "   1 2 3     \n",
    "   8 4 _     \n",
    "   7 6 5          \n",
    "Final State"
   ]
  },
  {
   "cell_type": "markdown",
   "id": "09ef36aa-27a2-4f7c-89dc-f737dbc085c1",
   "metadata": {},
   "source": [
    "### Start by making helper classes for the problem"
   ]
  },
  {
   "cell_type": "code",
   "execution_count": 1,
   "id": "570ee216-69af-4470-86cc-1db7d6615734",
   "metadata": {},
   "outputs": [],
   "source": [
    "from typing import List,Union\n",
    "class Node:\n",
    "    def __init__(self, state:List[List[Union[int, str]]], moves:int, f_val:int ):\n",
    "        \"\"\"\n",
    "        Args:\n",
    "            state: list representing the state of the node\n",
    "            moves: the moves made so far\n",
    "            f_val: The cost of the node f(n) = g(n) + h(n) \n",
    "        \"\"\"\n",
    "        self.state = state\n",
    "        self.moves = moves\n",
    "        self.f_val = f_val\n",
    "    \n",
    "    def generatenextnodes(self):\n",
    "        \"generate nodes with the blank space moved\"\n",
    "        x,y = self.getblankpos()\n",
    "        all_moves = [(x-1,y), (x+1,y), (x, y-1), (x, y+1)] \n",
    "        \n",
    "        child_nodes = []\n",
    "        for move in all_moves:\n",
    "            x_,y_ = move\n",
    "            # check if not going out of 3x3 matrix\n",
    "            if x_<0 or x_>2 or y_<0 or y_>2:\n",
    "                continue\n",
    "            # create duplicare\n",
    "            next_state = self.copystate()\n",
    "            # change state\n",
    "            next_state[x][y] = self.state[x_][y_]\n",
    "            next_state[x_][y_] = \"_\"\n",
    "            # generated all child states and appended to list\n",
    "            child_nodes.append(Node(next_state,moves=self.moves+1, f_val=0))\n",
    "        return child_nodes\n",
    "        \n",
    "    \n",
    "    def getblankpos(self):\n",
    "        for i in range(3):\n",
    "            for j in range(3):\n",
    "                if self.state[i][j] == \"_\":\n",
    "                    return (i,j)\n",
    "    \n",
    "    def copystate(self):\n",
    "        state = []\n",
    "        for row in self.state:\n",
    "            state.append(row.copy())\n",
    "        return state\n",
    "    \n",
    "    def __repr__(self):\n",
    "        output = \"\"\n",
    "        for row in self.state:\n",
    "            for x in row:\n",
    "                output += str(x) + \" \"\n",
    "            output += \"\\n\"\n",
    "        return output"
   ]
  },
  {
   "cell_type": "code",
   "execution_count": 2,
   "id": "b62e7997-c44d-4fbe-9810-86af6f83a752",
   "metadata": {},
   "outputs": [
    {
     "name": "stdout",
     "output_type": "stream",
     "text": [
      "1 2 3 \n",
      "4 5 6 \n",
      "7 8 _ \n",
      "\n"
     ]
    },
    {
     "data": {
      "text/plain": [
       "[1 2 3 \n",
       " 4 5 _ \n",
       " 7 8 6 ,\n",
       " 1 2 3 \n",
       " 4 5 6 \n",
       " 7 _ 8 ]"
      ]
     },
     "execution_count": 2,
     "metadata": {},
     "output_type": "execute_result"
    }
   ],
   "source": [
    "n = Node([[1,2,3],[4,5,6],[7,8,'_']],0,0)\n",
    "print(n)\n",
    "n.generatenextnodes()"
   ]
  },
  {
   "cell_type": "markdown",
   "id": "8a0d89c1-9389-4094-af4a-d184345c4ad3",
   "metadata": {},
   "source": [
    "### Define the heuristic function\n"
   ]
  },
  {
   "cell_type": "code",
   "execution_count": 3,
   "id": "9b873ba8-3c74-4d8e-b2fc-7f24dd20aad7",
   "metadata": {},
   "outputs": [],
   "source": [
    "def h(current_node, goal_state):\n",
    "    \"\"\"Calculate different between puzzles i.e cost\"\"\"\n",
    "    temp = 0\n",
    "    for i in range(3):\n",
    "        for j in range(3):\n",
    "            if current_node.state[i][j] != goal_state[i][j] and current_node.state[i][j] != \"_\":\n",
    "                temp += 1\n",
    "    return temp"
   ]
  },
  {
   "cell_type": "code",
   "execution_count": 4,
   "id": "517b5905-6614-4927-afe6-6132d0555f42",
   "metadata": {},
   "outputs": [
    {
     "name": "stdout",
     "output_type": "stream",
     "text": [
      "4\n"
     ]
    }
   ],
   "source": [
    "c_s = Node([[2,8,3],[1,6,4],[7,'_',5]],0,0)\n",
    "g_s = [[1,2,3],[8,\"_\",4],[7,6,5]]\n",
    "print(h(c_s,g_s))"
   ]
  },
  {
   "cell_type": "markdown",
   "id": "8cd17e0f-c9ce-46da-959e-9192f839826a",
   "metadata": {},
   "source": [
    "### A* Search (informed search)"
   ]
  },
  {
   "cell_type": "code",
   "execution_count": 5,
   "id": "e69c345e-1ba2-4153-96e3-23d2529127e0",
   "metadata": {},
   "outputs": [],
   "source": [
    "def astar_search(startparam,goal):\n",
    "    pathlist = []\n",
    "    start = Node(startparam,moves=0,f_val=0)\n",
    "    start.f_val = h(start,goal)\n",
    "\n",
    "    cur = start\n",
    "\n",
    "    while True:\n",
    "        pathlist.append(cur)\n",
    "        # goal state reached\n",
    "        if h(cur,goal) == 0:\n",
    "            break\n",
    "    \n",
    "    # explore and select best action\n",
    "        frontier = []\n",
    "    # check in all adjacent states\n",
    "        for node in cur.generatenextnodes():\n",
    "            #compute full cost\n",
    "            node.f_val = h(node, goal) + node.moves\n",
    "            frontier.append(node)\n",
    "        \n",
    "        frontier.sort(key = lambda node:node.f_val)\n",
    "        cur = frontier[0]\n",
    "        \n",
    "    for node in pathlist:\n",
    "        print(node)"
   ]
  },
  {
   "cell_type": "code",
   "execution_count": 6,
   "id": "83edfce7-4156-4d96-bfbd-1afef5f84edf",
   "metadata": {},
   "outputs": [
    {
     "name": "stdout",
     "output_type": "stream",
     "text": [
      "2 8 3 \n",
      "1 6 4 \n",
      "7 _ 5 \n",
      "\n",
      "2 8 3 \n",
      "1 _ 4 \n",
      "7 6 5 \n",
      "\n",
      "2 _ 3 \n",
      "1 8 4 \n",
      "7 6 5 \n",
      "\n",
      "_ 2 3 \n",
      "1 8 4 \n",
      "7 6 5 \n",
      "\n",
      "1 2 3 \n",
      "_ 8 4 \n",
      "7 6 5 \n",
      "\n",
      "1 2 3 \n",
      "8 _ 4 \n",
      "7 6 5 \n",
      "\n"
     ]
    }
   ],
   "source": [
    "start = [[2,8,3],[1,6,4],[7,\"_\",5]] \n",
    "end = [[1,2,3],[8,\"_\",4],[7,6,5]]\n",
    "astar_search(start,end)"
   ]
  },
  {
   "cell_type": "markdown",
   "id": "13ba3d0a-3899-4b2c-96ca-164cdd64689e",
   "metadata": {},
   "source": [
    "## Excercise 2"
   ]
  },
  {
   "cell_type": "markdown",
   "id": "31e21360-8531-4764-9288-48694dcb37f7",
   "metadata": {},
   "source": [
    "a) Apply BFS and DFS algorithms on the following search space to find the path between start\n",
    "\n",
    "and goal states. Also compute the cost of both searches in terms of number of nodes visited."
   ]
  },
  {
   "cell_type": "markdown",
   "id": "5be4fecc-67e6-4dbf-bc5a-c8fd53bd9969",
   "metadata": {},
   "source": [
    "![Excercise 2 Graph Image](ex2.png)"
   ]
  },
  {
   "cell_type": "code",
   "execution_count": 7,
   "id": "e2e738ae-19f5-476d-ab10-36aa03eba425",
   "metadata": {},
   "outputs": [],
   "source": [
    "# lets make the above graph\n",
    "# adjacency list\n",
    "graph={\n",
    "    \"A\":[\"B\",\"C\",\"D\"],\n",
    "    \"B\":[\"E\",\"F\"],\n",
    "    \"C\":[\"G\",\"H\"],\n",
    "    \"D\":[\"I\",\"J\"],\n",
    "    \"E\":[\"K\",\"L\"],\n",
    "    \"F\":[\"M\"],\n",
    "    \"G\":[\"N\"],\n",
    "    \"H\":[\"O\"],\n",
    "    \"I\":[\"P\",\"Q\"],\n",
    "    \"J\":[\"R\"],\n",
    "    \"K\":[\"S\"],\n",
    "    \"L\":[\"T\"],\n",
    "    \"P\":[\"U\"],\n",
    "}"
   ]
  },
  {
   "cell_type": "markdown",
   "id": "b9577d36-e196-43a8-b772-c1124a67c55f",
   "metadata": {},
   "source": [
    "b) Write a function bfs(T, s, g) that performs BFS on the given problem’s search space T and\n",
    "return the path from starting state s to goal state g."
   ]
  },
  {
   "cell_type": "code",
   "execution_count": 8,
   "id": "d2a89cc9-a405-43fb-a4ad-c013d5396f6c",
   "metadata": {},
   "outputs": [],
   "source": [
    "def bfs(graph,start,end):\n",
    "    visited = [] # List to keep track of visited nodes.\n",
    "    queue = []     #Initialize a queue\n",
    "    visited.append(start)\n",
    "    queue.append(start)\n",
    "\n",
    "    while queue:\n",
    "        s = queue.pop(0) \n",
    "\n",
    "        for neighbour in graph[s]:\n",
    "            if neighbour==end:\n",
    "                return len(visited),visited\n",
    "            if neighbour not in visited:\n",
    "                visited.append(neighbour)\n",
    "                queue.append(neighbour)"
   ]
  },
  {
   "cell_type": "markdown",
   "id": "f1327c13-d28d-445a-9cb9-15b4832bef36",
   "metadata": {},
   "source": [
    "c) Write a function dfs(T, s, g) that performs DFS on the given problem’s search space T and\n",
    "return the path from starting state s to goal state g."
   ]
  },
  {
   "cell_type": "code",
   "execution_count": 9,
   "id": "eadb435f-e5ec-462e-8e2d-648966eb7d5d",
   "metadata": {},
   "outputs": [],
   "source": [
    "def dfs(graph,start,end):       \n",
    "        visited = []\n",
    " \n",
    "        # Create a stack for DFS\n",
    "        stack = []\n",
    " \n",
    "        # Push the current source node.\n",
    "        stack.append(start)\n",
    " \n",
    "        while (len(stack)):\n",
    "            # Pop a vertex from stack and print it\n",
    "            s = stack[-1]\n",
    "            stack.pop()\n",
    " \n",
    "            # Stack may contain same vertex twice. So\n",
    "            # we need to print the popped item only\n",
    "            # if it is not visited.\n",
    "            if s not in visited:\n",
    "#                 print(s,end=' ')\n",
    "                visited.append(s)\n",
    " \n",
    "            # Get all adjacent vertices of the popped vertex s\n",
    "            # If a adjacent has not been visited, then push it\n",
    "            # to the stack.\n",
    "            if s not in graph.keys():\n",
    "                continue\n",
    "            for node in graph[s]:\n",
    "                if node==end:\n",
    "                    return len(visited),visited\n",
    "                if node not in visited:\n",
    "                    stack.append(node)"
   ]
  },
  {
   "cell_type": "markdown",
   "id": "398be86d-4b42-4ac4-ad93-8accd58f3b19",
   "metadata": {},
   "source": [
    "d) Use the above graph as test case and verify your results."
   ]
  },
  {
   "cell_type": "code",
   "execution_count": 10,
   "id": "e8a93118-dff9-4633-b702-4c4e8193295a",
   "metadata": {},
   "outputs": [
    {
     "name": "stdout",
     "output_type": "stream",
     "text": [
      "cost:  13\n",
      "path:  ['A', 'B', 'C', 'D', 'E', 'F', 'G', 'H', 'I', 'J', 'K', 'L', 'M']\n"
     ]
    }
   ],
   "source": [
    "# bfs cost and path\n",
    "ans=bfs(graph,\"A\",\"N\")\n",
    "print(\"cost: \",ans[0])\n",
    "print(\"path: \",ans[1])"
   ]
  },
  {
   "cell_type": "code",
   "execution_count": 11,
   "id": "0ed92018-b2a4-490e-a4a2-bf003700efaf",
   "metadata": {},
   "outputs": [
    {
     "name": "stdout",
     "output_type": "stream",
     "text": [
      "cost:  12\n",
      "path:  ['A', 'D', 'J', 'R', 'I', 'Q', 'P', 'U', 'C', 'H', 'O', 'G']\n"
     ]
    }
   ],
   "source": [
    "# bfs cost and path\n",
    "ans=dfs(graph,\"A\",\"N\")\n",
    "print(\"cost: \",ans[0])\n",
    "print(\"path: \",ans[1])"
   ]
  },
  {
   "cell_type": "markdown",
   "id": "7f00c1a1-e8a0-46cd-90e2-969034ae5612",
   "metadata": {},
   "source": [
    "## Excercise 3\n"
   ]
  },
  {
   "cell_type": "markdown",
   "id": "2fd8a6d3-0515-4ee9-8030-736056c5d9ae",
   "metadata": {},
   "source": [
    "Distance between the nodes is marked on the respective edges. The numbers written on nodes\n",
    "represent the heuristic value. Find the optimal cost path to reach from start state A to final\n",
    "state J using A* Algorithm."
   ]
  },
  {
   "cell_type": "markdown",
   "id": "f87e1290-b8ca-4221-9604-073b38cc7fb2",
   "metadata": {},
   "source": [
    "![Excercise 3 Graph Image](ex3.png)"
   ]
  },
  {
   "cell_type": "markdown",
   "id": "2975dda0-2b8d-4ca7-897f-91cb69aee9c7",
   "metadata": {},
   "source": [
    "### Start by making the graph specified in the problem\n"
   ]
  },
  {
   "cell_type": "code",
   "execution_count": 12,
   "id": "fd7ce5f2-b555-4797-b2b4-6befe8266292",
   "metadata": {},
   "outputs": [],
   "source": [
    "from typing import Dict,List\n",
    "# heuristic weighted graph created using dictionary (Hashmap)\n",
    "h_w_graph:Dict[str,List]={\n",
    "    \"A\":[{\"B\":6,\"F\":3},10],\n",
    "    \"B\":[{\"A\":6,\"D\":2,\"C\":5},8],\n",
    "    \"C\":[{\"D\":1,\"E\":5,\"B\":3},5],\n",
    "    \"D\":[{\"C\":1,\"E\":8,\"B\":2},7],\n",
    "    \"E\":[{\"C\":5,\"D\":8,\"I\":5,\"J\":5},3],\n",
    "    \"F\":[{\"A\":3,\"G\":1,\"H\":7},6],\n",
    "    \"G\":[{\"I\":3,\"F\":1},5],\n",
    "    \"H\":[{\"I\":2,\"F\":7},3],\n",
    "    \"I\":[{\"G\":3,\"H\":2,\"E\":5,\"J\":3},1],\n",
    "    \"J\":[{\"E\":5,\"I\":3},0]\n",
    "}\n",
    "            "
   ]
  },
  {
   "cell_type": "code",
   "execution_count": 13,
   "id": "d4bc5762-c3f2-450d-9615-24c704013355",
   "metadata": {},
   "outputs": [],
   "source": [
    "def search(start,end,graph):\n",
    "    # maintain a list of visited nodes\n",
    "    visited=[start]\n",
    "    # path to be returned\n",
    "    path=[]\n",
    "    cur=start\n",
    "    # total actual cost\n",
    "    totprevcost=0\n",
    "    # iteration\n",
    "    while True:\n",
    "        path.append(cur)\n",
    "        #goal state\n",
    "        if cur==end:\n",
    "            break\n",
    "        # to select best next state\n",
    "        frontier=[]\n",
    "        # iteration on all connected nodes to current node\n",
    "        for node,stepcost in graph[cur][0].items():\n",
    "            if node not in visited:\n",
    "                # full cost calculation\n",
    "                fcost=totprevcost+stepcost+graph[node][1]\n",
    "                frontier.append((node,fcost,stepcost))\n",
    "                visited.append(node)\n",
    "        # finding the smallest full cost for all connected nodes\n",
    "        frontier.sort(key=lambda x:x[1])\n",
    "        # selecting smallest full cost node as the next node on path\n",
    "        cur = frontier[0][0]\n",
    "        totprevcost+=frontier[0][2]\n",
    "    return path,totprevcost    "
   ]
  },
  {
   "cell_type": "code",
   "execution_count": 14,
   "id": "9afccd09-894e-414d-b8de-31f2cc5c4bd8",
   "metadata": {},
   "outputs": [
    {
     "name": "stdout",
     "output_type": "stream",
     "text": [
      "cost:  10\n",
      "path:  ['A', 'F', 'G', 'I', 'J']\n"
     ]
    }
   ],
   "source": [
    "ans=search(\"A\",\"J\",h_w_graph)\n",
    "print(\"cost: \",ans[1])\n",
    "print(\"path: \",ans[0])"
   ]
  },
  {
   "cell_type": "markdown",
   "id": "3202324c-3327-43cc-bdf9-45ce33644f60",
   "metadata": {},
   "source": [
    "## Excercise 4"
   ]
  },
  {
   "cell_type": "markdown",
   "id": "30620af7-3f75-4dd8-8f1b-40795cfef7e7",
   "metadata": {},
   "source": [
    "Implement a simple system that automatically counts the number of regions in the sample\n",
    "binary images attached with this. Output of the program should be the number of regions\n",
    "along with a labelled image. You may use DFS or BFS algorithms to find the neighbours."
   ]
  },
  {
   "cell_type": "code",
   "execution_count": 38,
   "id": "fe19d54e-fb09-4030-805b-3bd20bc1e267",
   "metadata": {},
   "outputs": [],
   "source": [
    "import matplotlib.pyplot as plt\n",
    "import matplotlib.image as mpimg\n",
    "import numpy as np"
   ]
  },
  {
   "cell_type": "code",
   "execution_count": 16,
   "id": "1599a534-f2c0-41e4-bb72-177c499210e9",
   "metadata": {},
   "outputs": [
    {
     "data": {
      "image/png": "[encoded data removed]",
      "text/plain": [
       "<Figure size 640x480 with 1 Axes>"
      ]
     },
     "metadata": {},
     "output_type": "display_data"
    }
   ],
   "source": [
    "img1 = mpimg.imread('ex4bin1.png')\n",
    "imgplot1 = plt.imshow(img1,cmap=\"gray\")\n",
    "plt.show()"
   ]
  },
  {
   "cell_type": "code",
   "execution_count": 17,
   "id": "a26c9af4-6a40-44a7-961e-7a1627f879cc",
   "metadata": {},
   "outputs": [
    {
     "data": {
      "image/png": "[encoded data removed]",
      "text/plain": [
       "<Figure size 640x480 with 1 Axes>"
      ]
     },
     "metadata": {},
     "output_type": "display_data"
    }
   ],
   "source": [
    "img2 = mpimg.imread('ex4bin2.jpeg')\n",
    "imgplot2 = plt.imshow(img2,cmap=\"gray\")\n",
    "plt.show()"
   ]
  },
  {
   "cell_type": "code",
   "execution_count": 18,
   "id": "ba487fa7-c9f1-44e7-b7e2-d2c898ded7c3",
   "metadata": {},
   "outputs": [],
   "source": [
    "val_arr1=np.array(img1)\n",
    "val_arr2=np.array(img2)"
   ]
  },
  {
   "cell_type": "code",
   "execution_count": 19,
   "id": "f2551c77-4e8a-4539-9a35-1eb72c6843e6",
   "metadata": {},
   "outputs": [
    {
     "data": {
      "text/plain": [
       "array([[1., 1., 1., 1., 1., 1., 1., 1., 1., 1., 1., 1., 1., 1., 1., 1.],\n",
       "       [1., 1., 1., 1., 1., 1., 1., 1., 1., 1., 1., 1., 1., 1., 1., 1.],\n",
       "       [1., 1., 1., 0., 0., 0., 1., 1., 1., 1., 1., 0., 0., 1., 1., 1.],\n",
       "       [1., 1., 0., 0., 0., 0., 0., 1., 1., 1., 0., 0., 0., 0., 1., 1.],\n",
       "       [1., 1., 0., 0., 0., 0., 0., 1., 1., 1., 0., 0., 0., 0., 0., 1.],\n",
       "       [1., 1., 0., 0., 0., 0., 0., 1., 1., 1., 0., 0., 0., 0., 0., 1.],\n",
       "       [1., 1., 0., 0., 0., 0., 0., 1., 1., 1., 0., 0., 0., 0., 0., 1.],\n",
       "       [1., 1., 0., 0., 0., 0., 0., 1., 1., 1., 0., 0., 0., 0., 1., 1.],\n",
       "       [1., 1., 1., 0., 0., 0., 1., 1., 1., 1., 1., 0., 0., 1., 1., 1.],\n",
       "       [1., 1., 1., 1., 1., 1., 1., 1., 1., 1., 1., 1., 1., 1., 1., 1.],\n",
       "       [1., 1., 1., 0., 0., 0., 1., 1., 1., 1., 1., 0., 0., 1., 1., 1.],\n",
       "       [1., 1., 1., 0., 0., 0., 0., 1., 1., 1., 0., 0., 0., 1., 1., 1.],\n",
       "       [1., 1., 1., 0., 0., 0., 0., 0., 0., 0., 0., 0., 0., 1., 1., 1.],\n",
       "       [1., 1., 1., 0., 0., 0., 0., 0., 0., 0., 0., 0., 0., 1., 1., 1.],\n",
       "       [1., 1., 1., 1., 0., 0., 0., 0., 0., 0., 0., 0., 1., 1., 1., 1.],\n",
       "       [1., 1., 1., 1., 1., 1., 1., 1., 1., 1., 1., 1., 1., 1., 1., 1.]],\n",
       "      dtype=float32)"
      ]
     },
     "execution_count": 19,
     "metadata": {},
     "output_type": "execute_result"
    }
   ],
   "source": [
    "val_arr1 # thresholded binary matrix"
   ]
  },
  {
   "cell_type": "code",
   "execution_count": 20,
   "id": "a7ea2edd-a9ba-48c8-8dab-acbf55fbb71e",
   "metadata": {},
   "outputs": [
    {
     "data": {
      "text/plain": [
       "array([[254, 255, 255, 254, 255, 255, 251, 255, 255, 253, 254, 255, 253,\n",
       "        254, 255, 255],\n",
       "       [255, 255, 255,   1,   0,   0, 255, 254, 255, 255, 254, 255, 255,\n",
       "        253, 255, 250],\n",
       "       [254, 252,   0,   2,   0,   0,   3, 255, 252, 255, 252, 255, 255,\n",
       "        255, 250, 255],\n",
       "       [255, 255,   2,   0,   2,   0,   0,   0, 255, 255, 255, 249, 253,\n",
       "        255, 255, 255],\n",
       "       [253, 255,   0,   1, 255, 254,   0,   1, 255, 252, 255, 255, 255,\n",
       "        251, 255, 252],\n",
       "       [253, 255, 255, 251, 255, 254,   1,   0, 255, 255, 253, 255, 255,\n",
       "        255, 253,   2],\n",
       "       [255, 249, 255, 255, 255, 253,   1,   0, 254, 255, 253, 255, 255,\n",
       "        255,   0,   0],\n",
       "       [253, 255, 255, 254,   0,   1,   0,   0, 255, 252, 255, 254, 253,\n",
       "          1,   0,   1],\n",
       "       [255, 253, 255, 254,   0,   2,   0, 255, 253, 255, 255, 255, 254,\n",
       "          0,   2,   0],\n",
       "       [255, 255, 253,   0,   0,   0, 253, 253, 255, 255, 251, 253,   1,\n",
       "          4,   0, 255],\n",
       "       [252, 255, 254,   0,   3,   0, 255, 255, 254, 255, 255,   0,   4,\n",
       "          0, 255, 252],\n",
       "       [255, 250, 255,   0,   0, 255, 253, 251, 255, 254, 255,   0,   0,\n",
       "        255, 255, 255],\n",
       "       [255, 253, 254, 255, 255, 253, 255, 255, 255, 255,   0,   1,   0,\n",
       "        254, 255, 252],\n",
       "       [252, 255, 255, 255, 251, 255, 255, 253, 255, 253,   0,   2,   0,\n",
       "        253, 255, 255],\n",
       "       [255, 255, 255, 251, 255, 255, 254, 255, 253, 255,   2,   0,   0,\n",
       "        255, 255, 253],\n",
       "       [255, 254, 255, 255, 255, 255, 255, 255, 255, 253,   0,   2, 255,\n",
       "        255, 255, 254]], dtype=uint8)"
      ]
     },
     "execution_count": 20,
     "metadata": {},
     "output_type": "execute_result"
    }
   ],
   "source": [
    "val_arr2 # uint8 image black and white"
   ]
  },
  {
   "cell_type": "markdown",
   "id": "76ab4b9c-06bd-41ee-b417-3c03143f5248",
   "metadata": {},
   "source": [
    "Inference: Image 1 doesn't require thresholding, Image 2 does.\n",
    "\n",
    "Therefore for Image 2, we will do thresholding in the form:\n",
    "- If val>250 : val=255\n",
    "- else val=0"
   ]
  },
  {
   "cell_type": "code",
   "execution_count": 21,
   "id": "401b3075-bb5f-4b76-a6f0-e9c49c13b89a",
   "metadata": {},
   "outputs": [],
   "source": [
    "for i in range(val_arr2.shape[0]):\n",
    "    for j in range(val_arr2.shape[1]):\n",
    "        if val_arr2[i][j]>200:\n",
    "            val_arr2[i][j]=1\n",
    "        else:\n",
    "            val_arr2[i][j]=0"
   ]
  },
  {
   "cell_type": "code",
   "execution_count": 22,
   "id": "7c190abc-9978-43d0-8172-edd08f663ee2",
   "metadata": {},
   "outputs": [
    {
     "data": {
      "text/plain": [
       "array([[1, 1, 1, 1, 1, 1, 1, 1, 1, 1, 1, 1, 1, 1, 1, 1],\n",
       "       [1, 1, 1, 0, 0, 0, 1, 1, 1, 1, 1, 1, 1, 1, 1, 1],\n",
       "       [1, 1, 0, 0, 0, 0, 0, 1, 1, 1, 1, 1, 1, 1, 1, 1],\n",
       "       [1, 1, 0, 0, 0, 0, 0, 0, 1, 1, 1, 1, 1, 1, 1, 1],\n",
       "       [1, 1, 0, 0, 1, 1, 0, 0, 1, 1, 1, 1, 1, 1, 1, 1],\n",
       "       [1, 1, 1, 1, 1, 1, 0, 0, 1, 1, 1, 1, 1, 1, 1, 0],\n",
       "       [1, 1, 1, 1, 1, 1, 0, 0, 1, 1, 1, 1, 1, 1, 0, 0],\n",
       "       [1, 1, 1, 1, 0, 0, 0, 0, 1, 1, 1, 1, 1, 0, 0, 0],\n",
       "       [1, 1, 1, 1, 0, 0, 0, 1, 1, 1, 1, 1, 1, 0, 0, 0],\n",
       "       [1, 1, 1, 0, 0, 0, 1, 1, 1, 1, 1, 1, 0, 0, 0, 1],\n",
       "       [1, 1, 1, 0, 0, 0, 1, 1, 1, 1, 1, 0, 0, 0, 1, 1],\n",
       "       [1, 1, 1, 0, 0, 1, 1, 1, 1, 1, 1, 0, 0, 1, 1, 1],\n",
       "       [1, 1, 1, 1, 1, 1, 1, 1, 1, 1, 0, 0, 0, 1, 1, 1],\n",
       "       [1, 1, 1, 1, 1, 1, 1, 1, 1, 1, 0, 0, 0, 1, 1, 1],\n",
       "       [1, 1, 1, 1, 1, 1, 1, 1, 1, 1, 0, 0, 0, 1, 1, 1],\n",
       "       [1, 1, 1, 1, 1, 1, 1, 1, 1, 1, 0, 0, 1, 1, 1, 1]], dtype=uint8)"
      ]
     },
     "execution_count": 22,
     "metadata": {},
     "output_type": "execute_result"
    }
   ],
   "source": [
    "val_arr2 #thresholded binary image"
   ]
  },
  {
   "cell_type": "markdown",
   "id": "27ce8559-d6f1-4241-9b1a-ea836ac3cc19",
   "metadata": {},
   "source": [
    "### Let's write a region counter function based on BFS"
   ]
  },
  {
   "cell_type": "code",
   "execution_count": 23,
   "id": "37913319-f329-45e1-8789-306b9922878d",
   "metadata": {},
   "outputs": [
    {
     "data": {
      "text/plain": [
       "(16, 16)"
      ]
     },
     "execution_count": 23,
     "metadata": {},
     "output_type": "execute_result"
    }
   ],
   "source": [
    "val_arr1.shape"
   ]
  },
  {
   "cell_type": "markdown",
   "id": "fcfc8b4f-aec9-4a54-8c2a-9d11f2802984",
   "metadata": {},
   "source": [
    "### BFS DFS and Helper functions"
   ]
  },
  {
   "cell_type": "code",
   "execution_count": 24,
   "id": "e399db5a-c0db-4fdf-8918-0fa3b2f6935a",
   "metadata": {},
   "outputs": [],
   "source": [
    "# function used to determine the next states \n",
    "def determine(x,maxlenx,maxleny):\n",
    "    if x[0]<0 or x[0]>=maxlenx or x[1]<0 or x[1]>=maxleny:\n",
    "        return True\n",
    "    \n",
    "# function used to determine whether the next states are relevant to the patch or not    \n",
    "def possneigh(imgin,i,j,maxlenx,maxleny):\n",
    "    poss_n=[(i+1,j),(i,j+1),(i+1,j+1),(i-1,j-1),(i-1,j),(i,j-1),(i-1,j+1),(i+1,j-1)]\n",
    "    poss_n=[x for x in poss_n if not determine(x,maxlenx,maxleny)]\n",
    "    return [x for x in poss_n if imgin[x[0]][x[1]]==0]\n",
    "\n",
    "#bfs from ex2 modified to work on image\n",
    "def bfs_4(graph,start):\n",
    "    visited = [] # List to keep track of visited nodes.\n",
    "    queue = []     #Initialize a queue\n",
    "    visited.append(start)\n",
    "    queue.append(start)\n",
    "\n",
    "    while queue:\n",
    "        s = queue.pop(0) \n",
    "        \n",
    "        for neighbour in possneigh(graph,s[0],s[1],graph.shape[0],graph.shape[1]):\n",
    "            if neighbour not in visited:\n",
    "                visited.append(neighbour)\n",
    "                queue.append(neighbour)\n",
    "    return visited\n",
    "\n",
    "#dfs from ex2 modified to work on image\n",
    "def dfs_4(graph,start):       \n",
    "        visited = []\n",
    " \n",
    "        # Create a stack for DFS\n",
    "        stack = []\n",
    " \n",
    "        # Push the current source node.\n",
    "        stack.append(start)\n",
    " \n",
    "        while (len(stack)):\n",
    "            # Pop a vertex from stack and print it\n",
    "            s = stack[-1]\n",
    "            stack.pop()\n",
    " \n",
    "            # Stack may contain same vertex twice. So\n",
    "            # we need to print the popped item only\n",
    "            # if it is not visited.\n",
    "            if s not in visited:\n",
    "#                 print(s,end=' ')\n",
    "                visited.append(s)\n",
    " \n",
    "            # Get all adjacent vertices of the popped vertex s\n",
    "            # If a adjacent has not been visited, then push it\n",
    "            # to the stack.\n",
    "#             if s not in graph.keys():\n",
    "#                 continue\n",
    "            for node in possneigh(graph,s[0],s[1],graph.shape[0],graph.shape[1]):\n",
    "                if node not in visited:\n",
    "                    stack.append(node)\n",
    "        return visited"
   ]
  },
  {
   "cell_type": "code",
   "execution_count": 25,
   "id": "718180cb-3989-43ff-aac0-4cd497013853",
   "metadata": {},
   "outputs": [],
   "source": [
    "# possneigh(val_arr2,15,15,16,16) checking helper func"
   ]
  },
  {
   "cell_type": "code",
   "execution_count": 26,
   "id": "3e74d6c7-4248-45f5-924f-7511a26b8baa",
   "metadata": {},
   "outputs": [],
   "source": [
    "# dfs_4(val_arr1,(3,2)) \n",
    "# bfs_4(val_arr1,(3,2))\n",
    "# checking helper func"
   ]
  },
  {
   "cell_type": "code",
   "execution_count": 27,
   "id": "7b42b22b-8b4d-434f-bed3-aa5a9ab8599e",
   "metadata": {},
   "outputs": [],
   "source": [
    "def regioncount(imgin,solver=\"bfs\"):\n",
    "    visited=[]\n",
    "    labels=0\n",
    "    patchcoords=[]\n",
    "    for i in range(imgin.shape[0]):\n",
    "        for j in range(imgin.shape[1]):\n",
    "            if (i,j) in visited:\n",
    "                continue\n",
    "            elif imgin[i][j]==0:\n",
    "                labels+=1\n",
    "                if solver==\"bfs\":\n",
    "                    patch=bfs_4(imgin,(i,j))\n",
    "                    patchcoords.append(patch)\n",
    "                    # to keep track while searching\n",
    "                    visited.extend(patch)\n",
    "                else:\n",
    "                    patch=dfs_4(imgin,(i,j))\n",
    "                    patchcoords.append(patch)\n",
    "                    # to keep track while searching\n",
    "                    visited.extend(patch)\n",
    "            else:\n",
    "                visited.append((i,j))\n",
    "                continue\n",
    "    return labels,patchcoords   "
   ]
  },
  {
   "cell_type": "markdown",
   "id": "95fd8d90-33ed-4535-bbec-61a770fdd0b8",
   "metadata": {},
   "source": [
    "### Let's solve for Image 1 using regioncount function"
   ]
  },
  {
   "cell_type": "code",
   "execution_count": 28,
   "id": "fe3c2623-7d77-4974-a8fa-bb5796d2939d",
   "metadata": {},
   "outputs": [
    {
     "data": {
      "image/png": "[encoded data removed]",
      "text/plain": [
       "<Figure size 640x480 with 1 Axes>"
      ]
     },
     "metadata": {},
     "output_type": "display_data"
    }
   ],
   "source": [
    "plt.imshow(val_arr1,cmap=\"gray\")\n",
    "plt.show()"
   ]
  },
  {
   "cell_type": "code",
   "execution_count": 29,
   "id": "db206760-34ee-4462-a17a-a120c892104d",
   "metadata": {},
   "outputs": [],
   "source": [
    "## Let's find patches using bfs first and then dfs\n",
    "num_of_patch,patch_coord_list=regioncount(val_arr1,solver=\"bfs\")"
   ]
  },
  {
   "cell_type": "code",
   "execution_count": 30,
   "id": "7bc8e126-381f-4e51-a185-c0639bca6338",
   "metadata": {},
   "outputs": [
    {
     "name": "stdout",
     "output_type": "stream",
     "text": [
      "Number of patches : 3\n"
     ]
    }
   ],
   "source": [
    "print(\"Number of patches :\",num_of_patch)"
   ]
  },
  {
   "cell_type": "code",
   "execution_count": 31,
   "id": "dda437c5-47b9-42e3-b154-8967a63cf16a",
   "metadata": {},
   "outputs": [
    {
     "data": {
      "image/png": "[encoded data removed]",
      "text/plain": [
       "<Figure size 640x480 with 1 Axes>"
      ]
     },
     "metadata": {},
     "output_type": "display_data"
    }
   ],
   "source": [
    "#since we have 3 patches\n",
    "x1=[x[0] for x in patch_coord_list[0]]\n",
    "y1=[x[1] for x in patch_coord_list[0]]\n",
    "x2=[x[0] for x in patch_coord_list[1]]\n",
    "y2=[x[1] for x in patch_coord_list[1]]\n",
    "x3=[x[0] for x in patch_coord_list[2]]\n",
    "y3=[x[1] for x in patch_coord_list[2]]\n",
    "plt.scatter(y1,x1)\n",
    "plt.scatter(y2,x2)\n",
    "plt.scatter(y3,x3)\n",
    "plt.xlim(0,  16)\n",
    "plt.ylim(0, 16)\n",
    "plt.gca().invert_yaxis()\n",
    "# plt.gca().invert_xaxis()\n",
    "plt.title(\"Isolated Patches\")\n",
    "plt.show()"
   ]
  },
  {
   "cell_type": "code",
   "execution_count": 32,
   "id": "fcaf0ce2-bcbb-4391-a8c3-329c2fc70f04",
   "metadata": {},
   "outputs": [
    {
     "name": "stdout",
     "output_type": "stream",
     "text": [
      "Number of patches : 3\n"
     ]
    }
   ],
   "source": [
    "## Let's find patches using bfs first and then dfs\n",
    "num_of_patch,patch_coord_list=regioncount(val_arr1,solver=\"dfs\")\n",
    "print(\"Number of patches :\",num_of_patch)"
   ]
  },
  {
   "cell_type": "markdown",
   "id": "d986662b-5901-4c6c-8aba-c89955d53a8e",
   "metadata": {},
   "source": [
    "### Let's solve for Image 2 using regioncount function"
   ]
  },
  {
   "cell_type": "code",
   "execution_count": 33,
   "id": "712a9b0f-f1c0-4f8a-9412-31342d6b3e9a",
   "metadata": {},
   "outputs": [
    {
     "data": {
      "image/png": "[encoded data removed]",
      "text/plain": [
       "<Figure size 640x480 with 1 Axes>"
      ]
     },
     "metadata": {},
     "output_type": "display_data"
    }
   ],
   "source": [
    "plt.imshow(val_arr2,cmap=\"gray\")\n",
    "plt.show()"
   ]
  },
  {
   "cell_type": "code",
   "execution_count": 34,
   "id": "ab2d47e5-5ea9-4fa0-b860-a5e8d1287c47",
   "metadata": {},
   "outputs": [],
   "source": [
    "## Let's find patches using bfs first and then dfs\n",
    "num_of_patch,patch_coord_list=regioncount(val_arr2,solver=\"bfs\")"
   ]
  },
  {
   "cell_type": "code",
   "execution_count": 35,
   "id": "b058115f-88bd-460d-8f2a-5a210cab8558",
   "metadata": {},
   "outputs": [
    {
     "name": "stdout",
     "output_type": "stream",
     "text": [
      "Number of patches : 2\n"
     ]
    }
   ],
   "source": [
    "print(\"Number of patches :\",num_of_patch)"
   ]
  },
  {
   "cell_type": "code",
   "execution_count": 36,
   "id": "c3e30b5b-9960-4319-9023-8da1245219c7",
   "metadata": {},
   "outputs": [
    {
     "data": {
      "image/png": "[encoded data removed]",
      "text/plain": [
       "<Figure size 640x480 with 1 Axes>"
      ]
     },
     "metadata": {},
     "output_type": "display_data"
    }
   ],
   "source": [
    "#since we have 3 patches\n",
    "x1=[x[0] for x in patch_coord_list[0]]\n",
    "y1=[x[1] for x in patch_coord_list[0]]\n",
    "x2=[x[0] for x in patch_coord_list[1]]\n",
    "y2=[x[1] for x in patch_coord_list[1]]\n",
    "plt.scatter(y1,x1)\n",
    "plt.scatter(y2,x2)\n",
    "plt.xlim(0,  16)\n",
    "plt.ylim(0, 16)\n",
    "plt.gca().invert_yaxis()\n",
    "# plt.gca().invert_xaxis()\n",
    "plt.title(\"Isolated Patches\")\n",
    "plt.show()"
   ]
  },
  {
   "cell_type": "code",
   "execution_count": 37,
   "id": "963b0813-c653-4ece-8804-a286b3ce687d",
   "metadata": {},
   "outputs": [
    {
     "name": "stdout",
     "output_type": "stream",
     "text": [
      "Number of patches : 2\n"
     ]
    }
   ],
   "source": [
    "## Let's find patches using bfs first and then dfs\n",
    "num_of_patch,patch_coord_list=regioncount(val_arr2,solver=\"dfs\")\n",
    "print(\"Number of patches :\",num_of_patch)"
   ]
  }
 ],
 "metadata": {
  "kernelspec": {
   "display_name": "Python 3 (ipykernel)",
   "language": "python",
   "name": "python3"
  },
  "language_info": {
   "codemirror_mode": {
    "name": "ipython",
    "version": 3
   },
   "file_extension": ".py",
   "mimetype": "text/x-python",
   "name": "python",
   "nbconvert_exporter": "python",
   "pygments_lexer": "ipython3",
   "version": "3.9.5"
  }
 },
 "nbformat": 4,
 "nbformat_minor": 5
}
