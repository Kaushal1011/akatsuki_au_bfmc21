{
 "cells": [
  {
   "cell_type": "code",
   "execution_count": 1,
   "id": "5addb3ea-5e50-4bc8-9fd9-0a7aa76a3f07",
   "metadata": {},
   "outputs": [],
   "source": [
    "import time\n",
    "\n",
    "\n",
    "class Action:\n",
    "    def __init__(self, name, release_time) -> None:\n",
    "        self.state = False\n",
    "        self.state_start = None\n",
    "        self.action_time = None\n",
    "        self.release_time = release_time\n",
    "        self.name = name\n",
    "\n",
    "    def state_check(self):\n",
    "        if self.state == True:\n",
    "            if (time.time() - self.state_start) > self.action_time:\n",
    "                print(\"in false state toggle\")\n",
    "                self.state = False, False\n",
    "                return False, True\n",
    "            print(\"in true toggle\")\n",
    "            return True, False\n",
    "        else:\n",
    "            return False, False\n",
    "\n",
    "    def set(self, action_time):\n",
    "\n",
    "        if not self.state_start or (self.state_start + self.action_time + self.release_time < time.time()):\n",
    "            self.action_time = action_time\n",
    "            self.state_start = time.time()\n",
    "            self.state=True\n",
    "            print(\"in here\")\n",
    "            return True\n",
    "        else:\n",
    "            return False\n",
    "\n"
   ]
  },
  {
   "cell_type": "code",
   "execution_count": 18,
   "id": "6a5569a9-d52e-43b6-9eba-0d1fc523167a",
   "metadata": {},
   "outputs": [],
   "source": [
    "class BehaviourCallback:\n",
    "    \n",
    "    def __init__(self):\n",
    "        pass\n",
    "    \n",
    "    def out_condition(self) -> bool:\n",
    "        raise False\n",
    "    \n",
    "    def toggle_condition(self) -> bool:\n",
    "        return False\n",
    "    \n",
    "    def __call__(self, car_state):\n",
    "        raise NotImplementedError\n",
    "    \n",
    "    def set(self):\n",
    "        raise NotImplementedError\n",
    "\n",
    "\n",
    "class StopBehvaiour(BehaviourCallback):\n",
    "    \n",
    "    def __call__(self,car_state):\n",
    "        # return 0 speed and 0 steering\n",
    "        return {\"speed\":0.0, \"steering\":0.0}\n",
    "\n",
    "class PriorityBehaviour(BehaviourCallback):\n",
    "    def __call__(self,car_state):\n",
    "        # return pririty speed \n",
    "        return {\"speed\":self.state.priority_speed}\n",
    "\n",
    "class OvertakeBehaviour(BehaviourCallback):\n",
    "    \n",
    "    def __init__(self,**kwargs):\n",
    "        self.overtakepath=None\n",
    "        \n",
    "    def reset(self,car_state):\n",
    "        # set path here for changing lanes\n",
    "        pass\n",
    "    \n",
    "    def __call__(self,car_state):\n",
    "        \n",
    "\n",
    "    \n",
    "class ActionBehaviour:\n",
    "    \n",
    "    def __init__(self,name,release_time=0.0,callback=None):\n",
    "        self.state = False\n",
    "        self.state_start = None\n",
    "        self.action_time = None\n",
    "        self.release_time = release_time\n",
    "        self.name = name\n",
    "        self.callback=callback\n",
    "        \n",
    "    def reset(self):\n",
    "        self.state = False\n",
    "        self.state_start = None\n",
    "        self.action_time = None\n",
    "        self.release_time = release_time\n",
    "        self.name = name\n",
    "        \n",
    "    def __call__(self, car_state=None):\n",
    "        state,toggle=self.state_check()\n",
    "        if state:\n",
    "            if self.callback.out_condition():\n",
    "                self.state=False\n",
    "            return self.callback(car_state) \n",
    "        elif toggle:\n",
    "            self.callback.toggle_condition()\n",
    "        else:\n",
    "            return None\n",
    "        \n",
    "    \n",
    "    def state_check(self):\n",
    "        if self.state == True:\n",
    "            if action_time is not None:\n",
    "                if (time.time() - self.state_start) > self.action_time:\n",
    "                    print(\"in false state toggle\")\n",
    "                    self.state = False\n",
    "                    return self.state, True\n",
    "            return self.state, False\n",
    "        else:\n",
    "            return self.state, False\n",
    "\n",
    "    def set(self, action_time=None,**kwargs):\n",
    "        if not self.state_start or (self.state_start + self.action_time + self.release_time < time.time()):\n",
    "            self.action_time = action_time\n",
    "            self.state_start = time.time()\n",
    "            self.state=True\n",
    "            self.state.callback.set(**kwargs)\n",
    "            print(\"State set\")\n",
    "            return self.state\n",
    "        else:\n",
    "            return self.state"
   ]
  },
  {
   "cell_type": "code",
   "execution_count": 21,
   "id": "90b5a403-d586-4755-8059-b114eb27b84e",
   "metadata": {},
   "outputs": [
    {
     "data": {
      "image/png": "[encoded data removed]",
      "text/plain": [
       "<Figure size 432x288 with 1 Axes>"
      ]
     },
     "metadata": {
      "needs_background": "light"
     },
     "output_type": "display_data"
    }
   ],
   "source": []
  },
  {
   "cell_type": "code",
   "execution_count": 20,
   "id": "47da1603-5a2a-4c27-98dc-92e62a8b6900",
   "metadata": {},
   "outputs": [
    {
     "name": "stdout",
     "output_type": "stream",
     "text": [
      "Collecting pykalman\n",
      "  Downloading pykalman-0.9.5.tar.gz (228 kB)\n",
      "\u001b[K     |████████████████████████████████| 228 kB 1.8 MB/s eta 0:00:01\n",
      "\u001b[?25hBuilding wheels for collected packages: pykalman\n",
      "  Building wheel for pykalman (setup.py) ... \u001b[?25ldone\n",
      "\u001b[?25h  Created wheel for pykalman: filename=pykalman-0.9.5-py3-none-any.whl size=48462 sha256=12c577983da02fa6f3cf3abf1df7e07decb1a7038c2532c7a38643c8f378fbdb\n",
      "  Stored in directory: /home/kaypee/.cache/pip/wheels/7a/68/21/675239322d2bb2e8e1fa317d4bd7b5566a4e82780b25a27f7a\n",
      "Successfully built pykalman\n",
      "Installing collected packages: pykalman\n",
      "Successfully installed pykalman-0.9.5\n"
     ]
    }
   ],
   "source": [
    "!pip install pykalman"
   ]
  },
  {
   "cell_type": "code",
   "execution_count": null,
   "id": "97205f85-8a7a-4e5f-b989-a1edff06922d",
   "metadata": {},
   "outputs": [],
   "source": []
  }
 ],
 "metadata": {
  "kernelspec": {
   "display_name": "Python 3 (ipykernel)",
   "language": "python",
   "name": "python3"
  },
  "language_info": {
   "codemirror_mode": {
    "name": "ipython",
    "version": 3
   },
   "file_extension": ".py",
   "mimetype": "text/x-python",
   "name": "python",
   "nbconvert_exporter": "python",
   "pygments_lexer": "ipython3",
   "version": "3.9.5"
  }
 },
 "nbformat": 4,
 "nbformat_minor": 5
}
