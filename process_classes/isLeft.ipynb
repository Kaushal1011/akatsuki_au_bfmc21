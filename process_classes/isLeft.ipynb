{
 "cells": [
  {
   "cell_type": "code",
   "execution_count": 5,
   "metadata": {},
   "outputs": [],
   "source": [
    "import math\n",
    "import numpy as np"
   ]
  },
  {
   "cell_type": "code",
   "execution_count": 16,
   "metadata": {},
   "outputs": [],
   "source": [
    "p1 = [0, 0]\n",
    "p2 = [0.7745966692414834, -1.8972146632335675e-16]\n",
    "p3 = [0.7605986983323216, -0.14659338353137946]\n",
    "# [0,0],[x1[i],x2[i]],[x1[i-3],x2[i-3]]"
   ]
  },
  {
   "cell_type": "code",
   "execution_count": 21,
   "metadata": {},
   "outputs": [],
   "source": [
    "def isLeft(p1, p2, p3):\n",
    "    c = p2[1] - ((p2[1]-p1[1])/(p2[0]-p1[0]))*p2[0]\n",
    "    d = ((p2[0]-p1[0])*(p3[1]-p1[1]) - (p2[1]-p1[1])*(p3[0]-p1[0]))\n",
    "    d0 = ((p2[0]-p1[0])*(-p1[1]) - (p2[1]-p1[1])*(-p1[0]))\n",
    "    if p1[0]<p2[0]:\n",
    "        if c<0:\n",
    "            if d0<0:\n",
    "                if d<0:\n",
    "                    return True\n",
    "                else:\n",
    "                    return False\n",
    "            elif d0>0:\n",
    "                if d>0:\n",
    "                    return True\n",
    "                else:\n",
    "                    return False\n",
    "        elif c>0:\n",
    "            if d0<0:\n",
    "                if d>0:\n",
    "                    return True\n",
    "                else:\n",
    "                    return False\n",
    "            elif d0>0:\n",
    "                if d<0:\n",
    "                    return True\n",
    "                else:\n",
    "                    return False\n",
    "                \n",
    "    elif p1[0]>p2[0]:\n",
    "        if c<0:\n",
    "            if d0<0:\n",
    "                if d>0:\n",
    "                    return True\n",
    "                else:\n",
    "                    return False\n",
    "            elif d0>0:\n",
    "                if d<0:\n",
    "                    return True\n",
    "                else:\n",
    "                    return False\n",
    "        elif c>0:\n",
    "            if d0<0:\n",
    "                if d<0:\n",
    "                    return True\n",
    "                else:\n",
    "                    return False\n",
    "            elif d0>0:\n",
    "                if d>0:\n",
    "                    return True\n",
    "                else:\n",
    "                    return False"
   ]
  },
  {
   "cell_type": "code",
   "execution_count": 78,
   "metadata": {},
   "outputs": [],
   "source": [
    "def isLeft(A,B,isleftpoint):\n",
    "    yd=math.atan2(B[1]-A[1],B[0]-A[0])\n",
    "    yd2=math.atan2(isleftpoint[1]-A[1],isleftpoint[0]-A[0])\n",
    "    compute=yd-yd2\n",
    "    # print(compute)\n",
    "    if abs(compute)>math.pi:\n",
    "        if compute >0:\n",
    "            compute=abs(compute)-2*math.pi\n",
    "        else:\n",
    "            compute=2*math.pi-abs(compute)\n",
    "    if compute >= 0:\n",
    "        return True\n",
    "    else:\n",
    "        return False"
   ]
  },
  {
   "cell_type": "code",
   "execution_count": 79,
   "metadata": {},
   "outputs": [],
   "source": [
    "def isLeftcp(a, b, c):\n",
    "     return not ((b[0] - a[0])*(c[1] - a[1]) - (b[1] - a[1])*(c[0] - a[0])) > 0"
   ]
  },
  {
   "cell_type": "code",
   "execution_count": 23,
   "metadata": {},
   "outputs": [
    {
     "data": {
      "image/png": "[encoded data removed]",
      "text/plain": [
       "<Figure size 432x288 with 1 Axes>"
      ]
     },
     "metadata": {
      "needs_background": "light"
     },
     "output_type": "display_data"
    }
   ],
   "source": [
    "import numpy as np\n",
    "import matplotlib.pyplot as plt\n",
    "\n",
    "# theta goes from 0 to 2pi\n",
    "theta = np.linspace(0, 2*np.pi, 100)\n",
    "\n",
    "# the radius of the circle\n",
    "r = np.sqrt(0.6)\n",
    "\n",
    "# compute x1 and x2\n",
    "x1 = r*np.cos(theta)\n",
    "x2 = r*np.sin(theta)\n",
    "\n",
    "# create the figure\n",
    "fig, ax = plt.subplots(1)\n",
    "ax.plot(x1, x2)\n",
    "ax.scatter(x1[20],x2[20])\n",
    "ax.set_aspect(1)\n",
    "plt.show()"
   ]
  },
  {
   "cell_type": "code",
   "execution_count": 24,
   "metadata": {},
   "outputs": [
    {
     "data": {
      "text/plain": [
       "3.21602126626822"
      ]
     },
     "execution_count": 24,
     "metadata": {},
     "output_type": "execute_result"
    }
   ],
   "source": [
    "slope=x2[20]/x1[20]\n",
    "slope\n",
    "# for i in range(1,len(x1)):\n",
    "#     plt.plot()"
   ]
  },
  {
   "cell_type": "code",
   "execution_count": 85,
   "metadata": {},
   "outputs": [
    {
     "data": {
      "text/plain": [
       "([0, 0],\n",
       " [-2.2254033307585166, -4.0],\n",
       " [-2.2394013016676784, -4.146593383531379])"
      ]
     },
     "execution_count": 85,
     "metadata": {},
     "output_type": "execute_result"
    }
   ],
   "source": [
    "[0,0],[x1[i],x2[i]],[x1[i-3],x2[i-3]]"
   ]
  },
  {
   "cell_type": "code",
   "execution_count": 86,
   "metadata": {},
   "outputs": [
    {
     "name": "stdout",
     "output_type": "stream",
     "text": [
      "True\n",
      "True\n",
      "True\n",
      "True\n",
      "True\n",
      "True\n",
      "True\n",
      "True\n",
      "True\n",
      "True\n",
      "True\n",
      "True\n",
      "True\n",
      "True\n",
      "True\n",
      "True\n",
      "True\n",
      "True\n",
      "True\n",
      "True\n",
      "True\n",
      "True\n",
      "True\n",
      "True\n",
      "True\n",
      "True\n",
      "True\n",
      "True\n",
      "True\n",
      "True\n",
      "True\n",
      "True\n",
      "True\n"
     ]
    }
   ],
   "source": [
    "for i in range(3,len(x1),3):\n",
    "    print(isLeft((-3,-4),(x1[i],x2[i]),(x1[i-3],x2[i-3])))"
   ]
  },
  {
   "cell_type": "code",
   "execution_count": null,
   "metadata": {},
   "outputs": [],
   "source": []
  },
  {
   "cell_type": "code",
   "execution_count": null,
   "metadata": {},
   "outputs": [],
   "source": []
  }
 ],
 "metadata": {
  "kernelspec": {
   "display_name": "Python 3 (ipykernel)",
   "language": "python",
   "name": "python3"
  },
  "language_info": {
   "codemirror_mode": {
    "name": "ipython",
    "version": 3
   },
   "file_extension": ".py",
   "mimetype": "text/x-python",
   "name": "python",
   "nbconvert_exporter": "python",
   "pygments_lexer": "ipython3",
   "version": "3.9.5"
  }
 },
 "nbformat": 4,
 "nbformat_minor": 4
}
