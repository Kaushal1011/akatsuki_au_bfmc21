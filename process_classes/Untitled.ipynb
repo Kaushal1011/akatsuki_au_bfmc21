{
 "cells": [
  {
   "cell_type": "code",
   "execution_count": 11,
   "id": "493e1126-665a-42c7-9d3d-1ffdc8668432",
   "metadata": {},
   "outputs": [],
   "source": [
    "import joblib\n",
    "import matplotlib.pyplot as plt\n",
    "import cubic_spline_planner"
   ]
  },
  {
   "cell_type": "code",
   "execution_count": 4,
   "id": "5d7a553e-ee25-4e47-9ca4-efdc28da7c05",
   "metadata": {},
   "outputs": [
    {
     "data": {
      "text/plain": [
       "dict_keys(['x', 'y'])"
      ]
     },
     "execution_count": 4,
     "metadata": {},
     "output_type": "execute_result"
    }
   ],
   "source": [
    "data_set=joblib.load(\"../test/localisationsystemSERVER/coordlist.z\")\n",
    "data_set.keys()"
   ]
  },
  {
   "cell_type": "code",
   "execution_count": 5,
   "id": "e109e80b-02cd-468c-b929-9e731a648071",
   "metadata": {},
   "outputs": [],
   "source": [
    "sx,sy=data_set[\"x\"],data_set[\"y\"]"
   ]
  },
  {
   "cell_type": "code",
   "execution_count": 14,
   "id": "e3e4d069-3cd3-40aa-a0b0-60fe9247552d",
   "metadata": {},
   "outputs": [
    {
     "data": {
      "image/png": "[encoded data removed]",
      "text/plain": [
       "<Figure size 432x288 with 1 Axes>"
      ]
     },
     "metadata": {
      "needs_background": "light"
     },
     "output_type": "display_data"
    }
   ],
   "source": [
    "plt.scatter(sx[::10],sy[::10],label=\"pathfollowed\")\n",
    "plt.legend()\n",
    "plt.savefig(\"trajectory.png\")"
   ]
  },
  {
   "cell_type": "code",
   "execution_count": 18,
   "id": "e01229ea",
   "metadata": {},
   "outputs": [],
   "source": [
    "cx,cy, *_ = cubic_spline_planner.calc_spline_course(sx[::15], sy[::15])"
   ]
  },
  {
   "cell_type": "code",
   "execution_count": 19,
   "id": "5cc6ba06",
   "metadata": {},
   "outputs": [
    {
     "data": {
      "image/png": "[encoded data removed]",
      "text/plain": [
       "<Figure size 432x288 with 1 Axes>"
      ]
     },
     "metadata": {
      "needs_background": "light"
     },
     "output_type": "display_data"
    }
   ],
   "source": [
    "plt.scatter(sx,sy,label=\"pathfollowed\")\n",
    "plt.scatter(cx,cy,label=\"created path\")\n",
    "\n",
    "plt.legend()\n",
    "plt.savefig(\"trajectory.png\")"
   ]
  },
  {
   "cell_type": "code",
   "execution_count": 20,
   "id": "de0e2b1d",
   "metadata": {},
   "outputs": [
    {
     "data": {
      "text/plain": [
       "['new_course.z']"
      ]
     },
     "execution_count": 20,
     "metadata": {},
     "output_type": "execute_result"
    }
   ],
   "source": [
    "joblib.dump({\"x\":cx,\"y\":cy}, \"new_course.z\")"
   ]
  },
  {
   "cell_type": "markdown",
   "id": "fdc3c14f",
   "metadata": {},
   "source": [
    "## Something Else"
   ]
  },
  {
   "cell_type": "code",
   "execution_count": 28,
   "id": "1f30ee6a-09ba-4d6a-9402-060b4abd79b8",
   "metadata": {},
   "outputs": [],
   "source": [
    "class PID:\n",
    "    \"\"\"\n",
    "    Discrete PID control\n",
    "    \"\"\"\n",
    "\n",
    "    def __init__(self, P=1.0, I=0.1, D=0.2, Derivator=0, Integrator=0, Integrator_max=0.3, Integrator_min=-0.3):\n",
    "\n",
    "        self.Kp = P\n",
    "        self.Ki = I\n",
    "        self.Kd = D\n",
    "        self.Derivator = Derivator\n",
    "        self.Integrator = Integrator\n",
    "        self.Integrator_max = Integrator_max\n",
    "        self.Integrator_min = Integrator_min\n",
    "\n",
    "        # self.set_point=0.0\n",
    "        self.error = 0.0\n",
    "\n",
    "    def update(self, error):\n",
    "        \"\"\"\n",
    "        Calculate PID output value for given reference input and feedback\n",
    "        \"\"\"\n",
    "\n",
    "        self.error = error\n",
    "\n",
    "        self.P_value = self.Kp * self.error\n",
    "        self.D_value = self.Kd * (self.error - self.Derivator)\n",
    "        self.Derivator = self.error\n",
    "\n",
    "        self.Integrator = self.Integrator + self.error\n",
    "\n",
    "        if self.Integrator > self.Integrator_max:\n",
    "            self.Integrator = self.Integrator_max\n",
    "        elif self.Integrator < self.Integrator_min:\n",
    "            self.Integrator = self.Integrator_min\n",
    "\n",
    "        self.I_value = self.Integrator * self.Ki\n",
    "\n",
    "        PID = self.P_value + self.I_value + self.D_value\n",
    "\n",
    "        return PID\n",
    "\n",
    "    def setPoint(self, set_point):\n",
    "        \"\"\"\n",
    "        Initilize the setpoint of PID\n",
    "        \"\"\"\n",
    "        self.set_point = set_point\n",
    "        self.Integrator = 0\n",
    "        self.Derivator = 0\n",
    "\n",
    "    def setIntegrator(self, Integrator):\n",
    "        self.Integrator = Integrator\n",
    "\n",
    "    def setDerivator(self, Derivator):\n",
    "        self.Derivator = Derivator\n",
    "\n",
    "    def setKp(self, P):\n",
    "        self.Kp = P\n",
    "\n",
    "    def setKi(self, I):\n",
    "        self.Ki = I\n",
    "\n",
    "    def setKd(self, D):\n",
    "        self.Kd = D\n",
    "\n",
    "    def getError(self):\n",
    "        return self.error\n",
    "\n",
    "    def getIntegrator(self):\n",
    "        return self.Integrator\n",
    "\n",
    "    def getDerivator(self):\n",
    "        return self.Derivator\n",
    "\n",
    "    \n",
    "def get_error_lane(mask_image):\n",
    "    mid_y=(mask_image.shape[0]//2)\n",
    "    pval=int(mid_y+0.6*(mask_image.shape[0]//2))\n",
    "    mval=int(mid_y+ 0.8*(mask_image.shape[0]//2))\n",
    "    # print(pval,mval)\n",
    "    img_new=mask_image[pval:mval,:]\n",
    "    img_new=cv2.resize(img_new,None,fx=0.35,fy=0.35,interpolation = cv2.INTER_NEAREST)\n",
    "    # plt.plot(img_new)\n",
    "    print(img_new.shape)\n",
    "    histogram = np.sum(img_new[img_new.shape[0] // 2 :, :], axis=0)  # noqa\n",
    "    plt.plot(histogram)\n",
    "    midpoint = np.int(histogram.shape[0] / 2)\n",
    "    leftxBase = np.argmax(histogram[:midpoint])\n",
    "    rightxBase = np.argmax(histogram[midpoint:]) + midpoint\n",
    "    print(leftxBase,midpoint,rightxBase)\n",
    "    return (abs(rightxBase-midpoint)-abs(leftxBase-midpoint))*26.5/(midpoint)\n",
    "\n"
   ]
  },
  {
   "cell_type": "code",
   "execution_count": 29,
   "id": "a465dae0-6b55-49bf-8f00-1284f54b1672",
   "metadata": {},
   "outputs": [
    {
     "ename": "NameError",
     "evalue": "name 'mask_image' is not defined",
     "output_type": "error",
     "traceback": [
      "\u001b[0;31m---------------------------------------------------------------------------\u001b[0m",
      "\u001b[0;31mNameError\u001b[0m                                 Traceback (most recent call last)",
      "Input \u001b[0;32mIn [29]\u001b[0m, in \u001b[0;36m<module>\u001b[0;34m\u001b[0m\n\u001b[1;32m      2\u001b[0m pidobj\u001b[38;5;241m=\u001b[39mPID()\n\u001b[1;32m      4\u001b[0m \u001b[38;5;66;03m#compute output \u001b[39;00m\n\u001b[0;32m----> 5\u001b[0m outangle\u001b[38;5;241m=\u001b[39mget_error_lane(\u001b[43mmask_image\u001b[49m)\n\u001b[1;32m      7\u001b[0m \u001b[38;5;66;03m# at output\u001b[39;00m\n\u001b[1;32m      8\u001b[0m output\u001b[38;5;241m=\u001b[39mpidobj\u001b[38;5;241m.\u001b[39mupdate(outangle\n\u001b[1;32m      9\u001b[0m                     )\n",
      "\u001b[0;31mNameError\u001b[0m: name 'mask_image' is not defined"
     ]
    }
   ],
   "source": [
    "#at init\n",
    "pidobj=PID()\n",
    "\n",
    "#compute output \n",
    "outangle=get_error_lane(mask_image)\n",
    "\n",
    "# at output\n",
    "output=pidobj.update(outangle)"
   ]
  },
  {
   "cell_type": "code",
   "execution_count": null,
   "id": "325d15a3-9df6-48d5-89d4-d5d39bf83715",
   "metadata": {},
   "outputs": [],
   "source": []
  }
 ],
 "metadata": {
  "kernelspec": {
   "display_name": "Python 3 (ipykernel)",
   "language": "python",
   "name": "python3"
  },
  "language_info": {
   "codemirror_mode": {
    "name": "ipython",
    "version": 3
   },
   "file_extension": ".py",
   "mimetype": "text/x-python",
   "name": "python",
   "nbconvert_exporter": "python",
   "pygments_lexer": "ipython3",
   "version": "3.7.10"
  }
 },
 "nbformat": 4,
 "nbformat_minor": 5
}
