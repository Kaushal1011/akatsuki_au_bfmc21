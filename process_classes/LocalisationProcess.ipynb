{
 "cells": [
  {
   "cell_type": "code",
   "execution_count": 12,
   "id": "88128011-3b2b-42c5-8589-774177932dd9",
   "metadata": {},
   "outputs": [],
   "source": [
    "import time\n",
    "from filterpy.leastsq import LeastSquaresFilter\n",
    "from pykalman import KalmanFilter\n",
    "now=time.time()\n",
    "\n",
    "\n",
    "class Localize:\n",
    "    \n",
    "    def __init__(self, gx=0, gy=0, gyaw=0, ix=0, iy=0, iyaw=0,init_x=-15,init_y=200):\n",
    "        \n",
    "        initial_state_mean = [0,\n",
    "                      init_x,\n",
    "                      0,\n",
    "                      init_y]\n",
    "\n",
    "        transition_matrix = [[1, 1, 0, 0],\n",
    "                             [0, 1, 0, 0],\n",
    "                             [0, 0, 1, 1],\n",
    "                             [0, 0, 0, 1]]\n",
    "\n",
    "        observation_matrix = [[1, 0, 0, 0],\n",
    "                              [0, 0, 1, 0]]\n",
    "        \n",
    "        initial_state_covariance=[[0,0,0,0],[0,0,0,0],[0,0,0,0],[0,0,0,0]]\n",
    "        \n",
    "        self.kf1 = KalmanFilter(transition_matrices = transition_matrix,\n",
    "                  observation_matrices = observation_matrix,\n",
    "                  initial_state_mean = initial_state_mean)\n",
    "        \n",
    "        self.kf2 = KalmanFilter(transition_matrices = transition_matrix,\n",
    "                  observation_matrices = observation_matrix,\n",
    "                  initial_state_mean = initial_state_mean)\n",
    "        \n",
    "        # gps coordinates\n",
    "        \n",
    "        self.gx=gx\n",
    "        self.gy=gy\n",
    "        self.gyaw=0\n",
    "\n",
    "        self.g_arr=[(0,0)]\n",
    "        # self.gy_arr=[]\n",
    "        self.gyaw_arr=[]\n",
    "        \n",
    "        # imu coordinate estimate\n",
    "        self.ix=ix\n",
    "        self.iy=iy\n",
    "        \n",
    "        self.i_arr=[(0,0)]\n",
    "        \n",
    "        #imu data         \n",
    "        self.iyaw=0\n",
    "        self.ipitch=0\n",
    "        self.iroll=0\n",
    "        \n",
    "        self.iyaw_arr=[]\n",
    "        self.ipitch_arr=[]\n",
    "        self.iroll_arr=[]\n",
    "        \n",
    "        #imu accelerometer data\n",
    "        self.accelx=0\n",
    "        self.accely=0\n",
    "        self.accelz=0\n",
    "        \n",
    "        #for physics\n",
    "        self.ux=0\n",
    "        self.uy=0\n",
    "        self.fix_dt=0.1\n",
    "        self.var_dt=0.1\n",
    "        \n",
    "        #last update time to calculate dt\n",
    "        self.lupdate_i=0\n",
    "        self.lupdate_g=0\n",
    "        \n",
    "        self.lsq_gx = LeastSquaresFilter(dt=0.01, order=2)\n",
    "        self.lsq_gy = LeastSquaresFilter(dt=0.01, order=2)\n",
    "        \n",
    "        self.lsq_ix = LeastSquaresFilter(dt=0.01, order=2)\n",
    "        self.lsq_iy = LeastSquaresFilter(dt=0.01, order=2)\n",
    "        \n",
    "        self.g_state_means = [initial_state_mean]\n",
    "        self.g_state_covariances = [initial_state_covariance]\n",
    "        \n",
    "        self.i_state_means = [initial_state_mean]\n",
    "        self.i_state_covariances = [initial_state_covariance]\n",
    "        \n",
    "    def update_imu(self, iyaw,ipitch,iroll,ax,ay,az):\n",
    "        self.iyaw=iyaw\n",
    "        self.ipitch=ipitch\n",
    "        self.iroll=iroll\n",
    "        \n",
    "        self.iyaw_arr.append(iyaw)\n",
    "        self.ipitch_arr.append(ipitch)\n",
    "        self.iroll_arr.append(iroll)\n",
    "        \n",
    "        self.var_dt=now()-self.lupdate_i\n",
    "        self.lupdate_i=now()\n",
    "        \n",
    "        # v = u + at\n",
    "        self.ux=self.ux + self.accelx*self.var_dt\n",
    "        self.uy=self.uy + self.accely*self.var_dt\n",
    "        \n",
    "        # s = ut + 0.5at^2\n",
    "        self.ix=self.ix+(self.ux*self.var_dt+0.5*self.accelx*self.var_dt)\n",
    "        self.iy=self.iy+(self.uy*self.var_dt+0.5*self.accely*self.var_dt)\n",
    "        \n",
    "        self.i_arr.append((self.ix,self.iy))\n",
    "        # self.iy_arr.append(self.iy)\n",
    "    \n",
    "    def update_gps(self, gx,gy,gyaw):\n",
    "        self.gx=gx\n",
    "        self.gy=gy\n",
    "        self.gyaw=gyaw\n",
    "        \n",
    "        self.g_arr.append((gx,gy))\n",
    "\n",
    "    \n",
    "    def get_loc_lls(self):\n",
    "        self.lsq_gx.dt=self.var_dt\n",
    "        self.lsq_gy.dt=self.var_dt\n",
    "        self.lsq_ix.dt=self.var_dt\n",
    "        self.lsq_iy.dt=self.var_dt\n",
    "        \n",
    "        return self.lsq_gx.update(self.gx)[0], self.lsq_gy.update(self.gy)[0], self.lsq_ix.update(self.ix)[0], self.lsq_iy.update(self.iy)[0]  \n",
    "        \n",
    "    def update_lls(self,iyaw=None,ipitch=None,iroll=None,ax=None,ay=None,az=None,gx=None,gy=None,gyaw=None):\n",
    "        \n",
    "        if iyaw is not None:\n",
    "            self.update_imu(iyaw,ipitch,iroll,ax,ay,az)\n",
    "        if gx is not None and gy is not None:\n",
    "            self.update_gps(gx,gy,gyaw)\n",
    "        return self.get_loc_lls()\n",
    "    \n",
    "    def get_loc(self):\n",
    "        pass\n",
    "\n",
    "        \n",
    "    \n",
    "    def update(self,iyaw=None,ipitch=None,iroll=None,ax=None,ay=None,az=None,gx=None,gy=None,gyaw=None):\n",
    "        rgx,rgy,rix,riy=None,None,None,None\n",
    "        \n",
    "        if iyaw is not None:\n",
    "            self.update_imu(iyaw,ipitch,iroll,ax,ay,az)\n",
    "            imean,icov=self.kf1.filter_update(filtered_state_mean=self.i_state_means[-1], filtered_state_covariance=self.i_state_covariances[-1], observation=(ix,iy))\n",
    "            self.i_state_means.append(imean)\n",
    "            self.i_state_covariances.append(icov)\n",
    "            \n",
    "            rix,riy=imean[0],iconv[-1][2]\n",
    "            if len(self.i_arr)<10:\n",
    "                rix,riy=self.ix,self.iy\n",
    "            \n",
    "            if len(self.i_arr)%10==0:\n",
    "                self.kf1=self.kf1.em(self.i_arr, n_iter=5)\n",
    "                self.kf1.observation_covariance=10*self.kf1.observation_covariance\n",
    "            \n",
    "            if len(self.i_arr)==10:\n",
    "                # print(\"in here\")\n",
    "                # self.kf1.observation_covariance=10*self.kf1.observation_covariance\n",
    "                pass\n",
    "            \n",
    "        if gx is not None and gy is not None:\n",
    "            self.update_gps(gx,gy,gyaw)\n",
    "            \n",
    "            gmean,gcov=self.kf2.filter_update(filtered_state_mean=self.g_state_means[-1], filtered_state_covariance=self.g_state_covariances[-1],observation= (gx,gy))\n",
    "            self.g_state_means.append(gmean)\n",
    "            self.g_state_covariances.append(gcov)\n",
    "            # gsm,gsc=self.kf2.smooth(self.g_arr)\n",
    "\n",
    "            rgx,rgy=gmean[0],gmean[2]\n",
    "            if len(self.g_arr)<10:\n",
    "                rgx,rgy=self.gx,self.gy\n",
    "                \n",
    "            self.ix,self.iy=rgx,rgy\n",
    "            rix,riy=rgx,rgy\n",
    "            \n",
    "            # self.kf2=self.kf2.em(self.g_arr, n_iter=5)\n",
    "            \n",
    "            if len(self.g_arr)%10==0:\n",
    "                self.kf2=self.kf2.em(self.g_arr, n_iter=5)\n",
    "                self.kf2.observation_covariance=10*self.kf2.observation_covariance\n",
    "            \n",
    "            if len(self.g_arr)==10:\n",
    "                # print(\"in here\")\n",
    "                # self.kf2.observation_covariance=10*self.kf2.observation_covariance\n",
    "                pass\n",
    "        \n",
    "        return rix,riy\n",
    "    # ,self.iyaw,self.ipitch,self.iroll"
   ]
  },
  {
   "cell_type": "code",
   "execution_count": 13,
   "id": "a1dbbd22-16ff-4fe9-9554-0c9547a56118",
   "metadata": {},
   "outputs": [],
   "source": [
    "local_sys = Localize()\n",
    "\n",
    "\n",
    "local_sys2=Localize()"
   ]
  },
  {
   "cell_type": "code",
   "execution_count": 14,
   "id": "b06bf89e-be0c-4b6c-9c21-d42c24cc0af3",
   "metadata": {},
   "outputs": [],
   "source": [
    "import numpy as np"
   ]
  },
  {
   "cell_type": "code",
   "execution_count": 15,
   "id": "b15aa8e6-0c8c-4ce0-aac7-208e2d0f0a9f",
   "metadata": {},
   "outputs": [],
   "source": [
    "import math\n",
    "X = np.linspace(-14, 14, 100)\n",
    "Y = X**2+ 9*np.random.randn(100)\n",
    "data = np.hstack((X.reshape(100,1),Y.reshape(100,1)))\n",
    "\n",
    "# measurements = np.asarray([(399,293),(403,299),(409,308),(416,315),(418,318),(420,323),(429,326),(423,328),(429,334),(431,337),(433,342),(434,352),(434,349),(433,350),(431,350),(430,349),(428,347),(427,345),(425,341),(429,338),(431,328),(410,313),(406,306),(402,299),(397,291),(391,294),(376,270),(372,272),(351,248),(336,244),(327,236),(307,220)])\n",
    "# X,Y=zip(*measurements)\n"
   ]
  },
  {
   "cell_type": "code",
   "execution_count": 16,
   "id": "22d9c5bf-21f3-4a04-b7fc-3a44f954e562",
   "metadata": {},
   "outputs": [
    {
     "data": {
      "text/plain": [
       "<matplotlib.collections.PathCollection at 0x7f0f82e510d0>"
      ]
     },
     "execution_count": 16,
     "metadata": {},
     "output_type": "execute_result"
    },
    {
     "data": {
      "image/png": "[encoded data removed]",
      "text/plain": [
       "<Figure size 432x288 with 1 Axes>"
      ]
     },
     "metadata": {
      "needs_background": "light"
     },
     "output_type": "display_data"
    }
   ],
   "source": [
    "import matplotlib.pyplot as plt\n",
    "plt.scatter(X,Y)"
   ]
  },
  {
   "cell_type": "code",
   "execution_count": 17,
   "id": "5bff06e2-5cf3-4c7e-bd13-c4957bcaa123",
   "metadata": {},
   "outputs": [],
   "source": [
    "x,y=[],[]\n",
    "x2,y2=[],[]\n",
    "# data=[(399,293),(403,299),(409,308),(416,315),(418,318),(420,323),(429,326),(423,328),(429,334),(431,337),(433,342),(434,352),(434,349),(433,350),(431,350),(430,349),(428,347),(427,345),(425,341),(429,338),(431,328),(410,313),(406,306),(402,299),(397,291),(391,294),(376,270),(372,272),(351,248),(336,244),(327,236),(307,220)]\n",
    "# X,Y=zip(*data)\n",
    "for i in range(len(Y)):\n",
    "    a=time.time()\n",
    "    gx,gy,_,_=local_sys.update_lls(gx=X[i],gy=Y[i])\n",
    "    gx2,gy2=local_sys2.update(gx=X[i],gy=Y[i])\n",
    "    b=time.time()\n",
    "    c=b-a\n",
    "    # print(gx,gy)\n",
    "    x.append(gx)\n",
    "    y.append(gy)\n",
    "    x2.append(gx2)\n",
    "    y2.append(gy2)\n",
    "    # time.sleep(0.2)\n",
    "a=[i for i in zip(x2,y2)]\n",
    "(smoothed_state_means, smoothed_state_covariances) = local_sys2.kf2.smooth(a)"
   ]
  },
  {
   "cell_type": "code",
   "execution_count": 18,
   "id": "409fc920-619f-4293-857b-9d15cc688bff",
   "metadata": {},
   "outputs": [],
   "source": [
    "x3,y3=[],[]\n",
    "for i in smoothed_state_means:\n",
    "    x3.append(i[0])\n",
    "    y3.append(i[2])"
   ]
  },
  {
   "cell_type": "code",
   "execution_count": 19,
   "id": "f6df3b9f-ac16-4579-9c88-527edd67e2a0",
   "metadata": {},
   "outputs": [
    {
     "data": {
      "image/png": "[encoded data removed]",
      "text/plain": [
       "<Figure size 720x360 with 1 Axes>"
      ]
     },
     "metadata": {
      "needs_background": "light"
     },
     "output_type": "display_data"
    }
   ],
   "source": [
    "plt.figure(figsize=(10,5))\n",
    "# plt.scatter(x,y,label=\"filtered\")\n",
    "plt.scatter(X,Y,label=\"unfiltered\")\n",
    "plt.plot(x2[3:],y2[3:],\"g*-\",label=\"filtered kalman filter\")\n",
    "plt.plot(x,y,\"r*-\",label=\"filtered linear least square\")\n",
    "plt.legend()\n",
    "plt.savefig(\"filters.png\")"
   ]
  },
  {
   "cell_type": "code",
   "execution_count": 1,
   "id": "8691008c-9f0e-43dd-bac1-57c555554f29",
   "metadata": {},
   "outputs": [
    {
     "data": {
      "image/png": "[encoded data removed]",
      "text/plain": [
       "<Figure size 432x288 with 1 Axes>"
      ]
     },
     "metadata": {
      "needs_background": "light"
     },
     "output_type": "display_data"
    }
   ],
   "source": [
    "from pykalman import KalmanFilter\n",
    "import numpy as np\n",
    "import matplotlib.pyplot as plt\n",
    "import time\n",
    "\n",
    "measurements = np.asarray([(399,293),(403,299),(409,308),(416,315),(418,318),(420,323),(429,326),(423,328),(429,334),(431,337),(433,342),(434,352),(434,349),(433,350),(431,350),(430,349),(428,347),(427,345),(425,341),(429,338),(431,328),(410,313),(406,306),(402,299),(397,291),(391,294),(376,270),(372,272),(351,248),(336,244),(327,236),(307,220)])\n",
    "\n",
    "initial_state_mean = [measurements[0, 0],\n",
    "                      0,\n",
    "                      measurements[0, 1],\n",
    "                      0]\n",
    "\n",
    "# initial_state_mean = [0,\n",
    "#                       0,\n",
    "#                       0,\n",
    "#                       0]\n",
    "\n",
    "transition_matrix = [[1, 1, 0, 0],\n",
    "                     [0, 1, 0, 0],\n",
    "                     [0, 0, 1, 1],\n",
    "                     [0, 0, 0, 1]]\n",
    "\n",
    "observation_matrix = [[1, 0, 0, 0],\n",
    "                      [0, 0, 1, 0]]\n",
    "\n",
    "kf1 = KalmanFilter(transition_matrices = transition_matrix,\n",
    "                  observation_matrices = observation_matrix,\n",
    "                  initial_state_mean = initial_state_mean)\n",
    "\n",
    "kf1 = kf1.em(measurements, n_iter=5)\n",
    "(smoothed_state_means, smoothed_state_covariances) = kf1.smooth(measurements)\n",
    "\n",
    "plt.figure(1)\n",
    "times = range(measurements.shape[0])\n",
    "plt.plot(times, measurements[:, 0], 'bo',\n",
    "         times, measurements[:, 1], 'ro',\n",
    "         times, smoothed_state_means[:, 0], 'b--',\n",
    "         times, smoothed_state_means[:, 2], 'r--',)\n",
    "plt.show()"
   ]
  },
  {
   "cell_type": "code",
   "execution_count": null,
   "id": "464a3a29-184e-4bea-9414-68fd68dade0b",
   "metadata": {},
   "outputs": [],
   "source": []
  },
  {
   "cell_type": "code",
   "execution_count": null,
   "id": "24e6fee2-c512-4ed7-8196-29d8d3b9fbb7",
   "metadata": {},
   "outputs": [],
   "source": []
  }
 ],
 "metadata": {
  "kernelspec": {
   "display_name": "Python 3 (ipykernel)",
   "language": "python",
   "name": "python3"
  },
  "language_info": {
   "codemirror_mode": {
    "name": "ipython",
    "version": 3
   },
   "file_extension": ".py",
   "mimetype": "text/x-python",
   "name": "python",
   "nbconvert_exporter": "python",
   "pygments_lexer": "ipython3",
   "version": "3.9.5"
  }
 },
 "nbformat": 4,
 "nbformat_minor": 5
}
